{
 "cells": [
  {
   "cell_type": "markdown",
   "metadata": {},
   "source": [
    "# HYSPLIT DATA PREPERATION"
   ]
  },
  {
   "cell_type": "markdown",
   "metadata": {},
   "source": [
    "Greg Lee\n",
    "<br>04.27.20\n",
    "\n",
    "Summary: This notebook represents augmentations used on data in order to prepare it for HYSPLIT\n",
    "\n",
    "**This is a rough approximation based upon quick google searches. No standardization performed (different websites used). \n",
    "\n",
    "** All other information comes from PUBCHEM\n",
    "\n",
    "Slightly Soluble = 0.1<X<1.0 M\n",
    "Insoluble = X<=0.1"
   ]
  },
  {
   "cell_type": "code",
   "execution_count": 2,
   "metadata": {},
   "outputs": [],
   "source": [
    "#USE geo env!\n",
    "\n",
    "#Basic py: \n",
    "import numpy as np\n",
    "import matplotlib.pyplot as plt\n",
    "import pandas as pd\n",
    "import datetime\n",
    "import os\n",
    "import datetime\n",
    "\n",
    "#Vis\n",
    "#import seaborn as sns\n",
    "\n",
    "#Geo\n",
    "import geopandas as gpd\n",
    "import fiona\n",
    "from shapely.geometry import Point\n",
    "import descartes\n",
    "import contextily as ctx #Basemaps "
   ]
  },
  {
   "cell_type": "code",
   "execution_count": 246,
   "metadata": {},
   "outputs": [],
   "source": [
    "#load the data (please see TRI_Data_Exploration for more information)\n",
    "tri_df = pd.read_csv('TRI_Carc_FSRel_9099.csv').drop(columns ='Unnamed: 0')"
   ]
  },
  {
   "cell_type": "code",
   "execution_count": 247,
   "metadata": {},
   "outputs": [
    {
     "data": {
      "text/html": [
       "<div>\n",
       "<style scoped>\n",
       "    .dataframe tbody tr th:only-of-type {\n",
       "        vertical-align: middle;\n",
       "    }\n",
       "\n",
       "    .dataframe tbody tr th {\n",
       "        vertical-align: top;\n",
       "    }\n",
       "\n",
       "    .dataframe thead th {\n",
       "        text-align: right;\n",
       "    }\n",
       "</style>\n",
       "<table border=\"1\" class=\"dataframe\">\n",
       "  <thead>\n",
       "    <tr style=\"text-align: right;\">\n",
       "      <th></th>\n",
       "      <th>CAS_No</th>\n",
       "      <th>Agent</th>\n",
       "      <th>Group</th>\n",
       "      <th>YEAR</th>\n",
       "      <th>TRIFD</th>\n",
       "      <th>FRSID</th>\n",
       "      <th>FACILITYNAME</th>\n",
       "      <th>CITY</th>\n",
       "      <th>COUNTY</th>\n",
       "      <th>ST</th>\n",
       "      <th>...</th>\n",
       "      <th>CAS#/COMPOUNDID</th>\n",
       "      <th>METAL</th>\n",
       "      <th>CARCINOGEN</th>\n",
       "      <th>UNITOFMEASURE</th>\n",
       "      <th>51-FUGITIVEAIR</th>\n",
       "      <th>52-STACKAIR</th>\n",
       "      <th>PRIMARYSIC</th>\n",
       "      <th>INDUSTRYSECTORCODE.1</th>\n",
       "      <th>88-ONE-TIMERELEASE</th>\n",
       "      <th>PRODUCTIONWSTE(81-87)</th>\n",
       "    </tr>\n",
       "  </thead>\n",
       "  <tbody>\n",
       "    <tr>\n",
       "      <th>0</th>\n",
       "      <td>98828</td>\n",
       "      <td>Cumene</td>\n",
       "      <td>2B</td>\n",
       "      <td>1990</td>\n",
       "      <td>84103MCLCM474WE</td>\n",
       "      <td>110000469243</td>\n",
       "      <td>TESORO REFINING &amp; MARKETING COMPANY LLC - SLC</td>\n",
       "      <td>SALT LAKE CITY</td>\n",
       "      <td>SALT LAKE</td>\n",
       "      <td>UT</td>\n",
       "      <td>...</td>\n",
       "      <td>98828</td>\n",
       "      <td>NO</td>\n",
       "      <td>YES</td>\n",
       "      <td>Pounds</td>\n",
       "      <td>0.0</td>\n",
       "      <td>64.0</td>\n",
       "      <td>2911</td>\n",
       "      <td>324</td>\n",
       "      <td>NaN</td>\n",
       "      <td>0.0</td>\n",
       "    </tr>\n",
       "    <tr>\n",
       "      <th>1</th>\n",
       "      <td>98828</td>\n",
       "      <td>Cumene</td>\n",
       "      <td>2B</td>\n",
       "      <td>1990</td>\n",
       "      <td>84066PNNZLWESTH</td>\n",
       "      <td>110000913218</td>\n",
       "      <td>PENNZOIL PRODUCTS CO ROOSEVELT REFINERY</td>\n",
       "      <td>ROOSEVELT</td>\n",
       "      <td>DUCHESNE</td>\n",
       "      <td>UT</td>\n",
       "      <td>...</td>\n",
       "      <td>98828</td>\n",
       "      <td>NO</td>\n",
       "      <td>YES</td>\n",
       "      <td>Pounds</td>\n",
       "      <td>100.0</td>\n",
       "      <td>100.0</td>\n",
       "      <td>2911</td>\n",
       "      <td>324</td>\n",
       "      <td>NaN</td>\n",
       "      <td>0.0</td>\n",
       "    </tr>\n",
       "  </tbody>\n",
       "</table>\n",
       "<p>2 rows × 26 columns</p>\n",
       "</div>"
      ],
      "text/plain": [
       "   CAS_No   Agent Group  YEAR            TRIFD         FRSID  \\\n",
       "0   98828  Cumene    2B  1990  84103MCLCM474WE  110000469243   \n",
       "1   98828  Cumene    2B  1990  84066PNNZLWESTH  110000913218   \n",
       "\n",
       "                                    FACILITYNAME            CITY     COUNTY  \\\n",
       "0  TESORO REFINING & MARKETING COMPANY LLC - SLC  SALT LAKE CITY  SALT LAKE   \n",
       "1        PENNZOIL PRODUCTS CO ROOSEVELT REFINERY       ROOSEVELT   DUCHESNE   \n",
       "\n",
       "   ST  ...  CAS#/COMPOUNDID  METAL  CARCINOGEN  UNITOFMEASURE 51-FUGITIVEAIR  \\\n",
       "0  UT  ...            98828     NO         YES         Pounds            0.0   \n",
       "1  UT  ...            98828     NO         YES         Pounds          100.0   \n",
       "\n",
       "  52-STACKAIR  PRIMARYSIC INDUSTRYSECTORCODE.1 88-ONE-TIMERELEASE  \\\n",
       "0        64.0        2911                  324                NaN   \n",
       "1       100.0        2911                  324                NaN   \n",
       "\n",
       "  PRODUCTIONWSTE(81-87)  \n",
       "0                   0.0  \n",
       "1                   0.0  \n",
       "\n",
       "[2 rows x 26 columns]"
      ]
     },
     "execution_count": 247,
     "metadata": {},
     "output_type": "execute_result"
    }
   ],
   "source": [
    "tri_df.head(2)"
   ]
  },
  {
   "cell_type": "markdown",
   "metadata": {},
   "source": [
    "# Base Case: January 1990 "
   ]
  },
  {
   "cell_type": "markdown",
   "metadata": {},
   "source": [
    "### Select the Data and Add Particle Information"
   ]
  },
  {
   "cell_type": "code",
   "execution_count": 248,
   "metadata": {},
   "outputs": [],
   "source": [
    "#First let's load in the features to seperate the particles and gasses\n",
    "TRI_chem_info = pd.read_csv('TRI_Carc_Half_Lives.csv')\n",
    "\n",
    "#keep only those entries with complete information\n",
    "TRI_chems = TRI_chem_info.dropna(subset = ['CAS'])\n",
    "TRI_chems = TRI_chems.rename(columns = {'Unnamed: 8':'Phase'})"
   ]
  },
  {
   "cell_type": "code",
   "execution_count": 249,
   "metadata": {},
   "outputs": [],
   "source": [
    "#Merge that data onto the tri dataframe\n",
    "tri_df = pd.merge(tri_df,TRI_chem_info,left_on ='CAS_No',right_on = 'CAS',how='left')\n",
    "tri_df = tri_df.drop(columns = ['CAS','Chems','88-ONE-TIMERELEASE'])"
   ]
  },
  {
   "cell_type": "code",
   "execution_count": 251,
   "metadata": {},
   "outputs": [
    {
     "name": "stdout",
     "output_type": "stream",
     "text": [
      "Fugitive Particle Releases shape: (13, 32)\n",
      "Total number of unique chemicals: (3,)\n",
      "\n",
      "Fugitive Gas Releases shape: (60, 32)\n",
      "Total number of unique chemicals: (15,)\n",
      "\n",
      "Stack Particle Releases shape: (12, 32)\n",
      "Total number of unique chemicals: (5,)\n",
      "\n",
      "Stack Gas Releases shape: (56, 32)\n",
      "Total number of unique chemicals: (11,)\n"
     ]
    }
   ],
   "source": [
    "#Seperate into the known differential modeling variants:\n",
    "fug_par_90 = tri_df[(tri_df['YEAR']==1990) & (tri_df['51-FUGITIVEAIR']>0) & (tri_df['Particle']==1)]\n",
    "fug_gas_90 = tri_df[(tri_df['YEAR']==1990) & (tri_df['51-FUGITIVEAIR']>0) & (tri_df['Gas']==1) ]\n",
    "stack_par_90 = tri_df[(tri_df['YEAR']==1990) & (tri_df['52-STACKAIR']>0) & (tri_df['Particle']==1)]\n",
    "stack_gas_90 = tri_df[(tri_df['YEAR']==1990) & (tri_df['52-STACKAIR']>0) & (tri_df['Gas']==1) ]\n",
    "\n",
    "print('Fugitive Particle Releases shape: ' + str(fug_par_90.shape))\n",
    "print('Total number of unique chemicals: '+str(fug_par_90['CAS_No'].drop_duplicates().shape))\n",
    "print('\\nFugitive Gas Releases shape: ' + str(fug_gas_90.shape))\n",
    "print('Total number of unique chemicals: '+str(fug_gas_90['CAS_No'].drop_duplicates().shape))\n",
    "print('\\nStack Particle Releases shape: ' + str(stack_par_90.shape))\n",
    "print('Total number of unique chemicals: '+str(stack_par_90['CAS_No'].drop_duplicates().shape))\n",
    "print('\\nStack Gas Releases shape: ' + str(stack_gas_90.shape))\n",
    "print('Total number of unique chemicals: '+str(stack_gas_90['CAS_No'].drop_duplicates().shape))"
   ]
  },
  {
   "cell_type": "markdown",
   "metadata": {},
   "source": [
    "### Create a Calender of releases\n",
    "\n",
    "Information for HYSPLIT\n",
    "1. Lat/Lon\n",
    "2. Convert to a datetime object (will need a value every three hours)"
   ]
  },
  {
   "cell_type": "code",
   "execution_count": 182,
   "metadata": {},
   "outputs": [
    {
     "data": {
      "text/plain": [
       "True"
      ]
     },
     "execution_count": 182,
     "metadata": {},
     "output_type": "execute_result"
    }
   ],
   "source": [
    "#Per each date, we will need to calculate \n",
    "cal = pd.date_range(\"1/1/90 00:00\", \"12/31/90 21:00\", freq=\"3H\")\n",
    "\n",
    "#Check the shape of the frame\n",
    "cal.shape[0] == 365*24/3"
   ]
  },
  {
   "cell_type": "code",
   "execution_count": 183,
   "metadata": {},
   "outputs": [
    {
     "data": {
      "text/plain": [
       "26    Pounds\n",
       "Name: UNITOFMEASURE, dtype: object"
      ]
     },
     "execution_count": 183,
     "metadata": {},
     "output_type": "execute_result"
    }
   ],
   "source": [
    "fug_par_90.columns\n",
    "fug_par_90['UNITOFMEASURE'].drop_duplicates()"
   ]
  },
  {
   "cell_type": "code",
   "execution_count": 185,
   "metadata": {},
   "outputs": [],
   "source": [
    "final_df = pd.DataFrame(columns = ['Daily_Release','Chem','CAS','MW','Half_Life','Solubility','Lat','Long'])\n",
    "\n",
    "for rows in range(fug_par_90.shape[0]):\n",
    "    temp_df = pd.DataFrame({'Daily_Release': [fug_par_90['51-FUGITIVEAIR'].iloc[rows]/cal.shape[0]],\n",
    "                            'Chem':fug_par_90['CHEMICAL'].iloc[rows],\n",
    "                            'CAS':fug_par_90['CAS#/COMPOUNDID'].iloc[rows],\n",
    "                            'MW':fug_par_90['MW'].iloc[rows],\n",
    "                            'Half_Life':fug_par_90['1/2 Life'].iloc[rows],\n",
    "                            'Solubility':fug_par_90['Solubility in H2O'].iloc[rows],\n",
    "                            'Lat':fug_par_90['LATITUDE'].iloc[rows],\n",
    "                            'Long':fug_par_90['LONGITUDE'].iloc[rows]})\n",
    "\n",
    "    final_df = final_df.append(temp_df)"
   ]
  },
  {
   "cell_type": "code",
   "execution_count": 186,
   "metadata": {},
   "outputs": [],
   "source": [
    "final = pd.DataFrame(columns = ['Daily_Release','Chem','CAS','MW','Half_Life','Solubility','Lat','Long'] )\n",
    "for index in range(test.shape[0]):\n",
    "    final_df['Date_Time'] = test[index].strftime(\"%m/%d/%Y %H:%M:%S\")\n",
    "    temp = final_df.set_index('Date_Time')\n",
    "    final = final.append(temp)"
   ]
  },
  {
   "cell_type": "code",
   "execution_count": 187,
   "metadata": {},
   "outputs": [],
   "source": [
    "idx = pd.MultiIndex.from_arrays([final.index.array,final['CAS'].array],names = ('Date','CAS'))\n",
    "final = final.set_index(idx)\n",
    "final = final.drop(columns = ['CAS'])"
   ]
  },
  {
   "cell_type": "code",
   "execution_count": 189,
   "metadata": {},
   "outputs": [
    {
     "data": {
      "text/html": [
       "<div>\n",
       "<style scoped>\n",
       "    .dataframe tbody tr th:only-of-type {\n",
       "        vertical-align: middle;\n",
       "    }\n",
       "\n",
       "    .dataframe tbody tr th {\n",
       "        vertical-align: top;\n",
       "    }\n",
       "\n",
       "    .dataframe thead th {\n",
       "        text-align: right;\n",
       "    }\n",
       "</style>\n",
       "<table border=\"1\" class=\"dataframe\">\n",
       "  <thead>\n",
       "    <tr style=\"text-align: right;\">\n",
       "      <th></th>\n",
       "      <th></th>\n",
       "      <th>Daily_Release</th>\n",
       "      <th>Chem</th>\n",
       "      <th>MW</th>\n",
       "      <th>Half_Life</th>\n",
       "      <th>Solubility</th>\n",
       "      <th>Lat</th>\n",
       "      <th>Long</th>\n",
       "    </tr>\n",
       "    <tr>\n",
       "      <th>Date</th>\n",
       "      <th>CAS</th>\n",
       "      <th></th>\n",
       "      <th></th>\n",
       "      <th></th>\n",
       "      <th></th>\n",
       "      <th></th>\n",
       "      <th></th>\n",
       "      <th></th>\n",
       "    </tr>\n",
       "  </thead>\n",
       "  <tbody>\n",
       "    <tr>\n",
       "      <th rowspan=\"5\" valign=\"top\">01/01/1990 00:00:00</th>\n",
       "      <th>91203</th>\n",
       "      <td>11.491438</td>\n",
       "      <td>NAPHTHALENE</td>\n",
       "      <td>128.17</td>\n",
       "      <td>8 hours</td>\n",
       "      <td>Insoluble</td>\n",
       "      <td>40.297058</td>\n",
       "      <td>-111.734076</td>\n",
       "    </tr>\n",
       "    <tr>\n",
       "      <th>91203</th>\n",
       "      <td>3.424658</td>\n",
       "      <td>NAPHTHALENE</td>\n",
       "      <td>128.17</td>\n",
       "      <td>8 hours</td>\n",
       "      <td>Insoluble</td>\n",
       "      <td>40.824900</td>\n",
       "      <td>-111.923800</td>\n",
       "    </tr>\n",
       "    <tr>\n",
       "      <th>91203</th>\n",
       "      <td>0.127740</td>\n",
       "      <td>NAPHTHALENE</td>\n",
       "      <td>128.17</td>\n",
       "      <td>8 hours</td>\n",
       "      <td>Insoluble</td>\n",
       "      <td>40.788900</td>\n",
       "      <td>-111.904410</td>\n",
       "    </tr>\n",
       "    <tr>\n",
       "      <th>91203</th>\n",
       "      <td>0.018151</td>\n",
       "      <td>NAPHTHALENE</td>\n",
       "      <td>128.17</td>\n",
       "      <td>8 hours</td>\n",
       "      <td>Insoluble</td>\n",
       "      <td>40.388555</td>\n",
       "      <td>-110.124910</td>\n",
       "    </tr>\n",
       "    <tr>\n",
       "      <th>91203</th>\n",
       "      <td>0.001712</td>\n",
       "      <td>NAPHTHALENE</td>\n",
       "      <td>128.17</td>\n",
       "      <td>8 hours</td>\n",
       "      <td>Insoluble</td>\n",
       "      <td>40.886022</td>\n",
       "      <td>-111.904759</td>\n",
       "    </tr>\n",
       "  </tbody>\n",
       "</table>\n",
       "</div>"
      ],
      "text/plain": [
       "                           Daily_Release         Chem      MW Half_Life  \\\n",
       "Date                CAS                                                   \n",
       "01/01/1990 00:00:00 91203      11.491438  NAPHTHALENE  128.17   8 hours   \n",
       "                    91203       3.424658  NAPHTHALENE  128.17   8 hours   \n",
       "                    91203       0.127740  NAPHTHALENE  128.17   8 hours   \n",
       "                    91203       0.018151  NAPHTHALENE  128.17   8 hours   \n",
       "                    91203       0.001712  NAPHTHALENE  128.17   8 hours   \n",
       "\n",
       "                           Solubility        Lat        Long  \n",
       "Date                CAS                                       \n",
       "01/01/1990 00:00:00 91203  Insoluble   40.297058 -111.734076  \n",
       "                    91203  Insoluble   40.824900 -111.923800  \n",
       "                    91203  Insoluble   40.788900 -111.904410  \n",
       "                    91203  Insoluble   40.388555 -110.124910  \n",
       "                    91203  Insoluble   40.886022 -111.904759  "
      ]
     },
     "execution_count": 189,
     "metadata": {},
     "output_type": "execute_result"
    }
   ],
   "source": [
    "final.head()"
   ]
  },
  {
   "cell_type": "markdown",
   "metadata": {},
   "source": [
    "#### Let's build a function to do this: "
   ]
  },
  {
   "cell_type": "code",
   "execution_count": 252,
   "metadata": {},
   "outputs": [],
   "source": [
    "def chem_date_comb(startdate,enddate,freq,data):\n",
    "    #Set the time dates for analysis: \n",
    "    calendar = pd.date_range(startdate,enddate, freq=freq)\n",
    "    \n",
    "    #Collect the daily information from the original data\n",
    "    final_df = pd.DataFrame(columns = ['Daily_Release','Chem','CAS','MW','Half_Life','Solubility','Lat','Long'])\n",
    "    for rows in range(data.shape[0]):\n",
    "        \n",
    "        #Edit if you want more information added to the release\n",
    "        temp_df = pd.DataFrame({'Daily_Release': [data['51-FUGITIVEAIR'].iloc[rows]/cal.shape[0]],\n",
    "                                'Chem':data['CHEMICAL'].iloc[rows],\n",
    "                                'CAS':data['CAS#/COMPOUNDID'].iloc[rows],\n",
    "                                'MW':data['MW'].iloc[rows],\n",
    "                                'Half_Life':data['1/2 Life'].iloc[rows],\n",
    "                                'Solubility':data['Solubility in H2O'].iloc[rows],\n",
    "                                'Lat':data['LATITUDE'].iloc[rows],\n",
    "                                'Long':data['LONGITUDE'].iloc[rows]})\n",
    "\n",
    "        final_df = final_df.append(temp_df)\n",
    "    \n",
    "    #Add a date-time to each  \n",
    "    final = pd.DataFrame(columns = ['Daily_Release','Chem','CAS','MW','Half_Life','Solubility','Lat','Long'] )\n",
    "    for index in range(calendar.shape[0]):\n",
    "        final_df['Date_Time'] = calendar[index].strftime(\"%m/%d/%Y %H:%M:%S\")\n",
    "        temp = final_df.set_index('Date_Time')\n",
    "        final = final.append(temp)\n",
    "    \n",
    "    #Realign the axis:\n",
    "    idx = pd.MultiIndex.from_arrays([final.index.array,final['CAS'].array],names = ('Date','CAS'))\n",
    "    final = final.set_index(idx)\n",
    "    \n",
    "    return final.drop(columns = ['CAS'])"
   ]
  },
  {
   "cell_type": "code",
   "execution_count": 253,
   "metadata": {},
   "outputs": [],
   "source": [
    "#Let's\n",
    "fug_par_90_df = chem_date_comb(startdate = \"1/1/90 00:00\",\n",
    "               enddate = \"12/31/90 21:00\",\n",
    "               freq = \"3H\",\n",
    "              data = fug_par_90)\n",
    "\n",
    "fug_gas_90_df = chem_date_comb(startdate = \"1/1/90 00:00\",\n",
    "               enddate = \"12/31/90 21:00\",\n",
    "               freq = \"3H\",\n",
    "              data = fug_gas_90)\n",
    "\n",
    "stack_par_90_df = chem_date_comb(startdate = \"1/1/90 00:00\",\n",
    "               enddate = \"12/31/90 21:00\",\n",
    "               freq = \"3H\",\n",
    "              data = stack_par_90)\n",
    "\n",
    "stack_gas_90_df = chem_date_comb(startdate = \"1/1/90 00:00\",\n",
    "               enddate = \"12/31/90 21:00\",\n",
    "               freq = \"3H\",\n",
    "              data = stack_gas_90)"
   ]
  },
  {
   "cell_type": "code",
   "execution_count": 254,
   "metadata": {},
   "outputs": [
    {
     "name": "stdout",
     "output_type": "stream",
     "text": [
      "(37960, 7)\n",
      "(175200, 7)\n",
      "(35040, 7)\n",
      "(163520, 7)\n"
     ]
    }
   ],
   "source": [
    "print(fug_par_90_df.shape)\n",
    "print(fug_gas_90_df.shape)\n",
    "print(stack_par_90_df.shape)\n",
    "print(stack_gas_90_df.shape)"
   ]
  },
  {
   "cell_type": "code",
   "execution_count": 256,
   "metadata": {},
   "outputs": [],
   "source": [
    "#Alright these shapes look good!\n",
    "#Ready for use in HYSPLIT"
   ]
  },
  {
   "cell_type": "code",
   "execution_count": null,
   "metadata": {},
   "outputs": [],
   "source": []
  }
 ],
 "metadata": {
  "kernelspec": {
   "display_name": "Python 3",
   "language": "python",
   "name": "python3"
  },
  "language_info": {
   "codemirror_mode": {
    "name": "ipython",
    "version": 3
   },
   "file_extension": ".py",
   "mimetype": "text/x-python",
   "name": "python",
   "nbconvert_exporter": "python",
   "pygments_lexer": "ipython3",
   "version": "3.7.7"
  }
 },
 "nbformat": 4,
 "nbformat_minor": 4
}
