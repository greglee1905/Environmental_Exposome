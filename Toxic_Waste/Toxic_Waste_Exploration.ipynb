{
 "cells": [
  {
   "cell_type": "markdown",
   "metadata": {},
   "source": [
    "# Toxic Waste "
   ]
  },
  {
   "cell_type": "markdown",
   "metadata": {},
   "source": [
    "This notebook reflects an exploration into several mining data sources: \n",
    "1. Environmental Accidents - Utah Interactive Map\n",
    "    - Unsure what the range of time is:\n",
    "2. Toxic_Release_Inventory\n",
    "    - EPA Data from 1987-2019"
   ]
  },
  {
   "cell_type": "code",
   "execution_count": 1,
   "metadata": {},
   "outputs": [],
   "source": [
    "#Libraries: \n",
    "#Basic py: \n",
    "import numpy as np\n",
    "import matplotlib.pyplot as plt\n",
    "import pandas as pd\n",
    "from PIL import Image\n",
    "import os\n",
    "\n",
    "pd.options.display.max_columns = 50"
   ]
  },
  {
   "cell_type": "markdown",
   "metadata": {},
   "source": [
    "## Environmental Accident Data Exploration"
   ]
  },
  {
   "cell_type": "code",
   "execution_count": 2,
   "metadata": {},
   "outputs": [
    {
     "ename": "ImportError",
     "evalue": "Missing optional dependency 'xlrd'. Install xlrd >= 1.0.0 for Excel support Use pip or conda to install xlrd.",
     "output_type": "error",
     "traceback": [
      "\u001b[0;31m---------------------------------------------------------------------------\u001b[0m",
      "\u001b[0;31mImportError\u001b[0m                               Traceback (most recent call last)",
      "\u001b[0;32m<ipython-input-2-d6981a543f5b>\u001b[0m in \u001b[0;36m<module>\u001b[0;34m\u001b[0m\n\u001b[1;32m      1\u001b[0m \u001b[0mpath\u001b[0m \u001b[0;34m=\u001b[0m \u001b[0;34m'./Toxic_Waste/'\u001b[0m\u001b[0;34m\u001b[0m\u001b[0;34m\u001b[0m\u001b[0m\n\u001b[1;32m      2\u001b[0m \u001b[0;31m#Look at accident data first:\u001b[0m\u001b[0;34m\u001b[0m\u001b[0;34m\u001b[0m\u001b[0;34m\u001b[0m\u001b[0m\n\u001b[0;32m----> 3\u001b[0;31m \u001b[0mEnv_Acci_df\u001b[0m \u001b[0;34m=\u001b[0m \u001b[0mpd\u001b[0m\u001b[0;34m.\u001b[0m\u001b[0mread_excel\u001b[0m\u001b[0;34m(\u001b[0m\u001b[0mpath\u001b[0m \u001b[0;34m+\u001b[0m \u001b[0;34m'DEQ_Haz_Spills.xlsx'\u001b[0m\u001b[0;34m)\u001b[0m\u001b[0;34m\u001b[0m\u001b[0;34m\u001b[0m\u001b[0m\n\u001b[0m\u001b[1;32m      4\u001b[0m \u001b[0mEnv_Acci_df\u001b[0m\u001b[0;34m.\u001b[0m\u001b[0mhead\u001b[0m\u001b[0;34m(\u001b[0m\u001b[0;34m)\u001b[0m\u001b[0;34m\u001b[0m\u001b[0;34m\u001b[0m\u001b[0m\n",
      "\u001b[0;32m~/anaconda3/envs/lab_basic/lib/python3.8/site-packages/pandas/io/excel/_base.py\u001b[0m in \u001b[0;36mread_excel\u001b[0;34m(io, sheet_name, header, names, index_col, usecols, squeeze, dtype, engine, converters, true_values, false_values, skiprows, nrows, na_values, keep_default_na, verbose, parse_dates, date_parser, thousands, comment, skipfooter, convert_float, mangle_dupe_cols, **kwds)\u001b[0m\n\u001b[1;32m    302\u001b[0m \u001b[0;34m\u001b[0m\u001b[0m\n\u001b[1;32m    303\u001b[0m     \u001b[0;32mif\u001b[0m \u001b[0;32mnot\u001b[0m \u001b[0misinstance\u001b[0m\u001b[0;34m(\u001b[0m\u001b[0mio\u001b[0m\u001b[0;34m,\u001b[0m \u001b[0mExcelFile\u001b[0m\u001b[0;34m)\u001b[0m\u001b[0;34m:\u001b[0m\u001b[0;34m\u001b[0m\u001b[0;34m\u001b[0m\u001b[0m\n\u001b[0;32m--> 304\u001b[0;31m         \u001b[0mio\u001b[0m \u001b[0;34m=\u001b[0m \u001b[0mExcelFile\u001b[0m\u001b[0;34m(\u001b[0m\u001b[0mio\u001b[0m\u001b[0;34m,\u001b[0m \u001b[0mengine\u001b[0m\u001b[0;34m=\u001b[0m\u001b[0mengine\u001b[0m\u001b[0;34m)\u001b[0m\u001b[0;34m\u001b[0m\u001b[0;34m\u001b[0m\u001b[0m\n\u001b[0m\u001b[1;32m    305\u001b[0m     \u001b[0;32melif\u001b[0m \u001b[0mengine\u001b[0m \u001b[0;32mand\u001b[0m \u001b[0mengine\u001b[0m \u001b[0;34m!=\u001b[0m \u001b[0mio\u001b[0m\u001b[0;34m.\u001b[0m\u001b[0mengine\u001b[0m\u001b[0;34m:\u001b[0m\u001b[0;34m\u001b[0m\u001b[0;34m\u001b[0m\u001b[0m\n\u001b[1;32m    306\u001b[0m         raise ValueError(\n",
      "\u001b[0;32m~/anaconda3/envs/lab_basic/lib/python3.8/site-packages/pandas/io/excel/_base.py\u001b[0m in \u001b[0;36m__init__\u001b[0;34m(self, io, engine)\u001b[0m\n\u001b[1;32m    822\u001b[0m         \u001b[0mself\u001b[0m\u001b[0;34m.\u001b[0m\u001b[0m_io\u001b[0m \u001b[0;34m=\u001b[0m \u001b[0mstringify_path\u001b[0m\u001b[0;34m(\u001b[0m\u001b[0mio\u001b[0m\u001b[0;34m)\u001b[0m\u001b[0;34m\u001b[0m\u001b[0;34m\u001b[0m\u001b[0m\n\u001b[1;32m    823\u001b[0m \u001b[0;34m\u001b[0m\u001b[0m\n\u001b[0;32m--> 824\u001b[0;31m         \u001b[0mself\u001b[0m\u001b[0;34m.\u001b[0m\u001b[0m_reader\u001b[0m \u001b[0;34m=\u001b[0m \u001b[0mself\u001b[0m\u001b[0;34m.\u001b[0m\u001b[0m_engines\u001b[0m\u001b[0;34m[\u001b[0m\u001b[0mengine\u001b[0m\u001b[0;34m]\u001b[0m\u001b[0;34m(\u001b[0m\u001b[0mself\u001b[0m\u001b[0;34m.\u001b[0m\u001b[0m_io\u001b[0m\u001b[0;34m)\u001b[0m\u001b[0;34m\u001b[0m\u001b[0;34m\u001b[0m\u001b[0m\n\u001b[0m\u001b[1;32m    825\u001b[0m \u001b[0;34m\u001b[0m\u001b[0m\n\u001b[1;32m    826\u001b[0m     \u001b[0;32mdef\u001b[0m \u001b[0m__fspath__\u001b[0m\u001b[0;34m(\u001b[0m\u001b[0mself\u001b[0m\u001b[0;34m)\u001b[0m\u001b[0;34m:\u001b[0m\u001b[0;34m\u001b[0m\u001b[0;34m\u001b[0m\u001b[0m\n",
      "\u001b[0;32m~/anaconda3/envs/lab_basic/lib/python3.8/site-packages/pandas/io/excel/_xlrd.py\u001b[0m in \u001b[0;36m__init__\u001b[0;34m(self, filepath_or_buffer)\u001b[0m\n\u001b[1;32m     18\u001b[0m         \"\"\"\n\u001b[1;32m     19\u001b[0m         \u001b[0merr_msg\u001b[0m \u001b[0;34m=\u001b[0m \u001b[0;34m\"Install xlrd >= 1.0.0 for Excel support\"\u001b[0m\u001b[0;34m\u001b[0m\u001b[0;34m\u001b[0m\u001b[0m\n\u001b[0;32m---> 20\u001b[0;31m         \u001b[0mimport_optional_dependency\u001b[0m\u001b[0;34m(\u001b[0m\u001b[0;34m\"xlrd\"\u001b[0m\u001b[0;34m,\u001b[0m \u001b[0mextra\u001b[0m\u001b[0;34m=\u001b[0m\u001b[0merr_msg\u001b[0m\u001b[0;34m)\u001b[0m\u001b[0;34m\u001b[0m\u001b[0;34m\u001b[0m\u001b[0m\n\u001b[0m\u001b[1;32m     21\u001b[0m         \u001b[0msuper\u001b[0m\u001b[0;34m(\u001b[0m\u001b[0;34m)\u001b[0m\u001b[0;34m.\u001b[0m\u001b[0m__init__\u001b[0m\u001b[0;34m(\u001b[0m\u001b[0mfilepath_or_buffer\u001b[0m\u001b[0;34m)\u001b[0m\u001b[0;34m\u001b[0m\u001b[0;34m\u001b[0m\u001b[0m\n\u001b[1;32m     22\u001b[0m \u001b[0;34m\u001b[0m\u001b[0m\n",
      "\u001b[0;32m~/anaconda3/envs/lab_basic/lib/python3.8/site-packages/pandas/compat/_optional.py\u001b[0m in \u001b[0;36mimport_optional_dependency\u001b[0;34m(name, extra, raise_on_missing, on_version)\u001b[0m\n\u001b[1;32m     90\u001b[0m     \u001b[0;32mexcept\u001b[0m \u001b[0mImportError\u001b[0m\u001b[0;34m:\u001b[0m\u001b[0;34m\u001b[0m\u001b[0;34m\u001b[0m\u001b[0m\n\u001b[1;32m     91\u001b[0m         \u001b[0;32mif\u001b[0m \u001b[0mraise_on_missing\u001b[0m\u001b[0;34m:\u001b[0m\u001b[0;34m\u001b[0m\u001b[0;34m\u001b[0m\u001b[0m\n\u001b[0;32m---> 92\u001b[0;31m             \u001b[0;32mraise\u001b[0m \u001b[0mImportError\u001b[0m\u001b[0;34m(\u001b[0m\u001b[0mmsg\u001b[0m\u001b[0;34m)\u001b[0m \u001b[0;32mfrom\u001b[0m \u001b[0;32mNone\u001b[0m\u001b[0;34m\u001b[0m\u001b[0;34m\u001b[0m\u001b[0m\n\u001b[0m\u001b[1;32m     93\u001b[0m         \u001b[0;32melse\u001b[0m\u001b[0;34m:\u001b[0m\u001b[0;34m\u001b[0m\u001b[0;34m\u001b[0m\u001b[0m\n\u001b[1;32m     94\u001b[0m             \u001b[0;32mreturn\u001b[0m \u001b[0;32mNone\u001b[0m\u001b[0;34m\u001b[0m\u001b[0;34m\u001b[0m\u001b[0m\n",
      "\u001b[0;31mImportError\u001b[0m: Missing optional dependency 'xlrd'. Install xlrd >= 1.0.0 for Excel support Use pip or conda to install xlrd."
     ]
    }
   ],
   "source": [
    "path = './Toxic_Waste/'\n",
    "#Look at accident data first: \n",
    "Env_Acci_df = pd.read_excel(path + 'DEQ_Haz_Spills.xlsx')\n",
    "Env_Acci_df.head()"
   ]
  },
  {
   "cell_type": "code",
   "execution_count": 4,
   "metadata": {},
   "outputs": [
    {
     "name": "stdout",
     "output_type": "stream",
     "text": [
      "Total Data Entries: 4398\n",
      "Total Columns: 22\n"
     ]
    }
   ],
   "source": [
    "print(\"Total Data Entries: \" + str(Env_Acci_df.shape[0]))\n",
    "print(\"Total Columns: \" + str(Env_Acci_df.shape[1]))"
   ]
  },
  {
   "cell_type": "code",
   "execution_count": 5,
   "metadata": {},
   "outputs": [
    {
     "data": {
      "text/plain": [
       "['OBJECTID',\n",
       " 'Shape',\n",
       " 'DERRID',\n",
       " 'SITEDESC',\n",
       " 'Northing',\n",
       " 'Easting',\n",
       " 'Title_EventName',\n",
       " 'Address_Location',\n",
       " 'Nearest_City',\n",
       " 'Date_Discovered',\n",
       " 'Responsible_Party',\n",
       " 'County',\n",
       " 'Map_Label',\n",
       " 'Incident_summary',\n",
       " 'Date_Discovered_For_Filter',\n",
       " 'ID',\n",
       " 'NAME',\n",
       " 'ADDRESS',\n",
       " 'CITY',\n",
       " 'TYPE',\n",
       " 'ENVIROAPPLABEL',\n",
       " 'ENVIROAPPSYMBOL']"
      ]
     },
     "execution_count": 5,
     "metadata": {},
     "output_type": "execute_result"
    }
   ],
   "source": [
    "#What information do we have:\n",
    "list(Env_Acci_df)"
   ]
  },
  {
   "cell_type": "code",
   "execution_count": 10,
   "metadata": {},
   "outputs": [
    {
     "data": {
      "text/plain": [
       "OBJECTID                         0\n",
       "Shape                            0\n",
       "DERRID                           0\n",
       "SITEDESC                         0\n",
       "Northing                         0\n",
       "Easting                          0\n",
       "TYPE                             0\n",
       "ENVIROAPPLABEL                   0\n",
       "Map_Label                        0\n",
       "ID                               0\n",
       "Nearest_City                     1\n",
       "CITY                             1\n",
       "County                           2\n",
       "Incident_summary                16\n",
       "Title_EventName                 27\n",
       "NAME                            27\n",
       "Responsible_Party              197\n",
       "Date_Discovered                206\n",
       "Date_Discovered_For_Filter     206\n",
       "ADDRESS                        387\n",
       "Address_Location               387\n",
       "ENVIROAPPSYMBOL               4398\n",
       "dtype: int64"
      ]
     },
     "execution_count": 10,
     "metadata": {},
     "output_type": "execute_result"
    }
   ],
   "source": [
    "#Let's look at the total number of missing values:\n",
    "Env_Acci_df.isna().sum().sort_values()"
   ]
  },
  {
   "cell_type": "markdown",
   "metadata": {},
   "source": [
    "Conclusions: \n",
    "1. Lots of missing addresses. BUT have complete northing and easting. \n",
    "2. Inicident summaries are missing for 16 of the total"
   ]
  },
  {
   "cell_type": "code",
   "execution_count": 7,
   "metadata": {},
   "outputs": [
    {
     "data": {
      "text/plain": [
       "SALT LAKE            968\n",
       "Salt Lake            592\n",
       "DUCHESNE             293\n",
       "UTAH                 273\n",
       "DAVIS                244\n",
       "Davis                236\n",
       "WEBER                190\n",
       "UINTAH               171\n",
       "Utah                 136\n",
       "TOOELE                97\n",
       "Weber                 96\n",
       "BOX ELDER             94\n",
       "CACHE                 84\n",
       "SUMMIT                73\n",
       "WASHINGTON            71\n",
       "SAN JUAN              59\n",
       "CARBON                58\n",
       "Washington            43\n",
       "WASATCH               42\n",
       "GRAND                 42\n",
       "IRON                  41\n",
       "BEAVER                33\n",
       "EMERY                 31\n",
       "Cache                 30\n",
       "Summit                26\n",
       "Tooele                25\n",
       "Uintah                25\n",
       "MORGAN                24\n",
       "SEVIER                24\n",
       "MILLARD               22\n",
       "KANE                  20\n",
       "Box Elder             20\n",
       "JUAB                  19\n",
       "Iron                  17\n",
       "Grand                 14\n",
       "Millard               14\n",
       "SANPETE               13\n",
       "Wasatch               13\n",
       "Morgan                12\n",
       "Sevier                12\n",
       "PIUTE                 11\n",
       "Emery                 10\n",
       "GARFIELD               9\n",
       "Juab                   9\n",
       "RICH                   9\n",
       "Carbon                 9\n",
       "San Juan               7\n",
       "WAYNE                  5\n",
       "Kane                   5\n",
       "Sanpete                5\n",
       "Beaver                 5\n",
       "Garfield               4\n",
       "DAGGETT                3\n",
       "Duchesne               3\n",
       "Daggett                2\n",
       "Rich                   1\n",
       "Piute                  1\n",
       "- Please Select -      1\n",
       "Name: County, dtype: int64"
      ]
     },
     "execution_count": 7,
     "metadata": {},
     "output_type": "execute_result"
    }
   ],
   "source": [
    "Env_Acci_df.loc[:,'County'].value_counts()"
   ]
  },
  {
   "cell_type": "markdown",
   "metadata": {},
   "source": [
    "Conclusions: \n",
    "1. Greatest number of measurements are made for the Salt Lake Area. There appears to be some reduncancy in the nomencalture. "
   ]
  },
  {
   "cell_type": "code",
   "execution_count": 8,
   "metadata": {},
   "outputs": [
    {
     "data": {
      "text/plain": [
       "'Tractor trailer was transporting several hazardous materials in 55-gallon drums.  Product was discovered leaking from trailer.  I-80 was closed and HazMat teams responded.  Took some time to figure exactly which drum was leaking.  A non-corrosive polyamine had leaked.  Believe that all spilled material was contained on asphalt.  TW company cleaned up spilled product.  Information was supplied by Ernie Maki, Jeff Coombs (Tooele County), and evening news.  I-80 eastbound was closed from milemarkers 84 to 99.'"
      ]
     },
     "execution_count": 8,
     "metadata": {},
     "output_type": "execute_result"
    }
   ],
   "source": [
    "#Let's look at an example summary to see what is said: \n",
    "Env_Acci_df.loc[3,'Incident_summary']"
   ]
  },
  {
   "cell_type": "markdown",
   "metadata": {},
   "source": [
    "Exact chemical compounds will be hard to extract from this data. Will require more digging per each incident which may or may not yield chemical information. "
   ]
  },
  {
   "cell_type": "markdown",
   "metadata": {},
   "source": [
    "## Visualization "
   ]
  },
  {
   "cell_type": "code",
   "execution_count": 12,
   "metadata": {},
   "outputs": [],
   "source": [
    "#Histogram: What is the trend in environmental accidents? \n",
    "#Going to bin by year\n",
    "time_slice = pd.DataFrame(columns = [\"Date\"])\n",
    "time_slice['Date'] = Env_Acci_df.loc[:,'Date_Discovered']\n",
    "time_slice['Date'] = pd.to_datetime(time_slice['Date'])\n",
    "time_slice = time_slice.dropna() #Drops ~200 which have na...Makes sense based upon earlier estimates.\n",
    "time_slice['year'] = pd.DatetimeIndex(time_slice['Date']).year"
   ]
  },
  {
   "cell_type": "code",
   "execution_count": 13,
   "metadata": {},
   "outputs": [
    {
     "data": {
      "text/plain": [
       "Text(0, 0.5, 'Spills')"
      ]
     },
     "execution_count": 13,
     "metadata": {},
     "output_type": "execute_result"
    },
    {
     "data": {
      "image/png": "[encoded data removed]",
      "text/plain": [
       "<Figure size 432x288 with 1 Axes>"
      ]
     },
     "metadata": {
      "needs_background": "light"
     },
     "output_type": "display_data"
    }
   ],
   "source": [
    "time_slice.hist()\n",
    "plt.title('Environmental Accidents Histogram by Year ')\n",
    "plt.xlabel('Year')\n",
    "plt.ylabel(\"Spills\")\n",
    "#plt.savefig(\"Env_Acc_Hist.png\")"
   ]
  },
  {
   "cell_type": "markdown",
   "metadata": {},
   "source": [
    "## Toxic Release Inventory: \n",
    "EPA's method to track the release of toxic chemicals from specific manufacturers"
   ]
  },
  {
   "cell_type": "code",
   "execution_count": 17,
   "metadata": {},
   "outputs": [],
   "source": [
    "path = './Toxic_Waste/Toxic_Release_Inventory/'\n",
    "TRI_df = []\n",
    "\n",
    "#Store Data: \n",
    "for files in os.listdir(path):\n",
    "    if (files.split('.')[1] == 'csv'):\n",
    "        TRI_df.append(pd.read_csv(path + files, sep=\",\") )\n",
    "\n",
    "TRI_df = pd.concat(TRI_df)"
   ]
  },
  {
   "cell_type": "code",
   "execution_count": 18,
   "metadata": {},
   "outputs": [
    {
     "name": "stdout",
     "output_type": "stream",
     "text": [
      "The total number of observations of the concatenated data is: 23523\n",
      "The total number of columns is:  114\n",
      "The earliest year is: 1987\n",
      "The earliest year is: 2018\n",
      "The mean number of observations per year per chemical is: 735.09375\n"
     ]
    }
   ],
   "source": [
    "#Summary Stats\n",
    "print(\"The total number of observations of the concatenated data is: \"+ str(TRI_df.shape[0]))\n",
    "print(\"The total number of columns is:  \"+ str(TRI_df.shape[1]))\n",
    "print(\"The earliest year is: \" + str(min(TRI_df['1. YEAR'])))\n",
    "print(\"The earliest year is: \" + str(max(TRI_df['1. YEAR'])))\n",
    "print(\"The mean number of observations per year per chemical is: \" + str(TRI_df['1. YEAR'].value_counts().mean()))"
   ]
  },
  {
   "cell_type": "code",
   "execution_count": 19,
   "metadata": {},
   "outputs": [
    {
     "name": "stdout",
     "output_type": "stream",
     "text": [
      "1. YEAR                               0\n",
      "80. 6.2 - M26                         0\n",
      "79. 6.2 - M24                         0\n",
      "78. 6.2 - M20                         0\n",
      "77. OFF-SITE RELEASE TOTAL            0\n",
      "76. 6.2 - M99                         0\n",
      "75. 6.2 - M94                         0\n",
      "74. 6.2 - M90                         0\n",
      "73. 6.2 - M79                         0\n",
      "72. 6.2 - M73                         0\n",
      "71. 6.2 - M65                         0\n",
      "70. 6.2 - M64                         0\n",
      "69. 6.2 - M67                         0\n",
      "68. 6.2 - M66                         0\n",
      "67. 6.2 - M63                         0\n",
      "66. 6.2 - M72                         0\n",
      "65. 6.2 - M82                         0\n",
      "64. 6.2 - M81                         0\n",
      "63. 6.2 - M71                         0\n",
      "62. 6.2 - M61 METAL                   0\n",
      "61. 6.2 - M40 METAL                   0\n",
      "60. 6.2 - M62                         0\n",
      "59. 6.2 - M41                         0\n",
      "58. 6.2 - M10                         0\n",
      "81. 6.2 - M28                         0\n",
      "82. 6.2 - M93                         0\n",
      "83. OFF-SITE RECYCLED TOTAL           0\n",
      "84. 6.2 - M56                         0\n",
      "108. PRODUCTION WSTE (8.1-8.7)        0\n",
      "107. 8.7 - TREATMENT OFF SITE         0\n",
      "106. 8.6 - TREATMENT ON SITE          0\n",
      "105. 8.5 - RECYCLING OFF SIT          0\n",
      "104. 8.4 - RECYCLING ON SITE          0\n",
      "103. 8.3 - ENERGY RECOVER OF          0\n",
      "102. 8.2 - ENERGY RECOVER ON          0\n",
      "101. 8.1D - OFF-SITE OTHER R          0\n",
      "100. 8.1C - OFF-SITE CONTAIN          0\n",
      "99. 8.1B - ON-SITE OTHER              0\n",
      "98. 8.1A - ON-SITE CONTAINED          0\n",
      "56. 6.1 - POTW - TRNS TRT             0\n",
      "97. 8.1 - RELEASES                    0\n",
      "95. 6.2 - TOTAL TRANSFER              0\n",
      "94. 6.2 - UNCLASSIFIED                0\n",
      "93. OFF-SITE TREATED TOTAL            0\n",
      "92. 6.2 - M95                         0\n",
      "91. 6.2 - M69                         0\n",
      "90. 6.2 - M61 NON-METAL               0\n",
      "89. 6.2 - M54                         0\n",
      "88. 6.2 - M50                         0\n",
      "87. 6.2 - M40 NON-METAL               0\n",
      "86. OFF-SITE ENERGY RECOVERY T        0\n",
      "85. 6.2 - M92                         0\n",
      "96. TOTAL RELEASES                    0\n",
      "55. 6.1 - POTW - TRNS RLSE            0\n",
      "57. POTW - TOTAL TRANSFERS            0\n",
      "53. 5.5.4 - OTHER DISPOSAL            0\n",
      "33. CLEAN AIR ACT CHEMICAL            0\n",
      "31. CAS #/COMPOUND ID                 0\n",
      "4. FACILITY NAME                      0\n",
      "54. ON-SITE RELEASE TOTAL             0\n",
      "23. PRIMARY NAICS                     0\n",
      "2. TRIFD                              0\n",
      "16. INDUSTRY SECTOR                   0\n",
      "34. CLASSIFICATION                    0\n",
      "15. INDUSTRY SECTOR CODE              0\n",
      "13. LONGITUDE                         0\n",
      "12. LATITUDE                          0\n",
      "9. ZIP                                0\n",
      "8. ST                                 0\n",
      "7. COUNTY                             0\n",
      "6. CITY                               0\n",
      "5. STREET ADDRESS                     0\n",
      "14. FEDERAL FACILITY                  0\n",
      "35. METAL                             0\n",
      "29. DOC_CTRL_NUM                      0\n",
      "37. CARCINOGEN                        0\n",
      "52. 5.5.3B - OTHER SURFACE I          0\n",
      "51. 5.5.3A - RCRA SURFACE IM          0\n",
      "50. 5.5.3 - SURFACE IMPNDMNT          0\n",
      "49. 5.5.2 - LAND TREATMENT            0\n",
      "48. 5.5.1B - OTHER LANDFILLS          0\n",
      "47. 5.5.1A - RCRA C LANDFILL          0\n",
      "46. 5.5.1 - LANDFILLS                 0\n",
      "45. 5.4.2 - UNDERGROUND C II-V        0\n",
      "44. 5.4.1 - UNDERGROUND CL I          0\n",
      "36. METAL CATEGORY                    0\n",
      "43. 5.4 - UNDERGROUND                 0\n",
      "3. FRS ID                             0\n",
      "42. 5.3 - WATER                       0\n",
      "38. FORM TYPE                         0\n",
      "39. UNIT OF MEASURE                   0\n",
      "41. 5.2 - STACK AIR                   0\n",
      "40. 5.1 - FUGITIVE AIR                0\n",
      "30. CHEMICAL                          3\n",
      "32. SRS ID                           26\n",
      "112. PARENT CO NAME                3895\n",
      "111. 8.9 - PRODUCTION RATIO        4281\n",
      "113. PARENT CO DB NUM              6695\n",
      "17. PRIMARY SIC                   11444\n",
      "109. 8.8 - ONE-TIME RELEASE       15337\n",
      "110. PROD_RATIO_OR_ ACTIVITY      19635\n",
      "24. NAICS 2                       20595\n",
      "18. SIC 2                         21723\n",
      "19. SIC 3                         22903\n",
      "11. TRIBE                         23288\n",
      "10. BIA                           23288\n",
      "20. SIC 4                         23453\n",
      "25. NAICS 3                       23480\n",
      "21. SIC 5                         23497\n",
      "22. SIC 6                         23501\n",
      "26. NAICS 4                       23514\n",
      "27. NAICS 5                       23522\n",
      "28. NAICS 6                       23523\n",
      "Unnamed: 113                      23523\n"
     ]
    }
   ],
   "source": [
    "#What are the columns and sparsity of rows in the data? \n",
    "test = TRI_df.isna().sum().sort_values()\n",
    "print(test.to_string())"
   ]
  },
  {
   "cell_type": "code",
   "execution_count": 20,
   "metadata": {},
   "outputs": [
    {
     "data": {
      "text/html": [
       "<div>\n",
       "<style scoped>\n",
       "    .dataframe tbody tr th:only-of-type {\n",
       "        vertical-align: middle;\n",
       "    }\n",
       "\n",
       "    .dataframe tbody tr th {\n",
       "        vertical-align: top;\n",
       "    }\n",
       "\n",
       "    .dataframe thead th {\n",
       "        text-align: right;\n",
       "    }\n",
       "</style>\n",
       "<table border=\"1\" class=\"dataframe\">\n",
       "  <thead>\n",
       "    <tr style=\"text-align: right;\">\n",
       "      <th></th>\n",
       "      <th>1. YEAR</th>\n",
       "      <th>96. TOTAL RELEASES</th>\n",
       "      <th>4. FACILITY NAME</th>\n",
       "      <th>13. LONGITUDE</th>\n",
       "      <th>12. LATITUDE</th>\n",
       "      <th>9. ZIP</th>\n",
       "      <th>37. CARCINOGEN</th>\n",
       "      <th>30. CHEMICAL</th>\n",
       "    </tr>\n",
       "  </thead>\n",
       "  <tbody>\n",
       "    <tr>\n",
       "      <th>0</th>\n",
       "      <td>2001</td>\n",
       "      <td>2.43</td>\n",
       "      <td>ASAHI REFINING USA INC</td>\n",
       "      <td>-112.000810</td>\n",
       "      <td>40.725570</td>\n",
       "      <td>84120</td>\n",
       "      <td>YES</td>\n",
       "      <td>LEAD</td>\n",
       "    </tr>\n",
       "    <tr>\n",
       "      <th>1</th>\n",
       "      <td>2001</td>\n",
       "      <td>15092.00</td>\n",
       "      <td>UTILITY TRAILER MANUFACTURING</td>\n",
       "      <td>-112.034109</td>\n",
       "      <td>41.115500</td>\n",
       "      <td>84015</td>\n",
       "      <td>NO</td>\n",
       "      <td>1,1-DICHLORO-1-FLUOROETHANE</td>\n",
       "    </tr>\n",
       "    <tr>\n",
       "      <th>2</th>\n",
       "      <td>2001</td>\n",
       "      <td>1620.00</td>\n",
       "      <td>HEXCEL CORP</td>\n",
       "      <td>-112.054074</td>\n",
       "      <td>40.653604</td>\n",
       "      <td>84119</td>\n",
       "      <td>YES</td>\n",
       "      <td>DICHLOROMETHANE</td>\n",
       "    </tr>\n",
       "    <tr>\n",
       "      <th>3</th>\n",
       "      <td>2001</td>\n",
       "      <td>120.00</td>\n",
       "      <td>GENEVA STEEL LLC</td>\n",
       "      <td>-111.734076</td>\n",
       "      <td>40.297058</td>\n",
       "      <td>84058</td>\n",
       "      <td>NO</td>\n",
       "      <td>BENZO(G,H,I)PERYLENE</td>\n",
       "    </tr>\n",
       "    <tr>\n",
       "      <th>4</th>\n",
       "      <td>2001</td>\n",
       "      <td>0.00</td>\n",
       "      <td>BLACK OIL CO MONTICELLO BULK PLANT</td>\n",
       "      <td>-109.342880</td>\n",
       "      <td>37.872920</td>\n",
       "      <td>84535</td>\n",
       "      <td>YES</td>\n",
       "      <td>BENZENE</td>\n",
       "    </tr>\n",
       "  </tbody>\n",
       "</table>\n",
       "</div>"
      ],
      "text/plain": [
       "   1. YEAR  96. TOTAL RELEASES                    4. FACILITY NAME  \\\n",
       "0     2001                2.43              ASAHI REFINING USA INC   \n",
       "1     2001            15092.00       UTILITY TRAILER MANUFACTURING   \n",
       "2     2001             1620.00                         HEXCEL CORP   \n",
       "3     2001              120.00                    GENEVA STEEL LLC   \n",
       "4     2001                0.00  BLACK OIL CO MONTICELLO BULK PLANT   \n",
       "\n",
       "   13. LONGITUDE  12. LATITUDE  9. ZIP 37. CARCINOGEN  \\\n",
       "0    -112.000810     40.725570   84120            YES   \n",
       "1    -112.034109     41.115500   84015             NO   \n",
       "2    -112.054074     40.653604   84119            YES   \n",
       "3    -111.734076     40.297058   84058             NO   \n",
       "4    -109.342880     37.872920   84535            YES   \n",
       "\n",
       "                  30. CHEMICAL  \n",
       "0                         LEAD  \n",
       "1  1,1-DICHLORO-1-FLUOROETHANE  \n",
       "2              DICHLOROMETHANE  \n",
       "3         BENZO(G,H,I)PERYLENE  \n",
       "4                      BENZENE  "
      ]
     },
     "execution_count": 20,
     "metadata": {},
     "output_type": "execute_result"
    }
   ],
   "source": [
    "#Data That I want to look at: \n",
    "#30. CHEMICAL\n",
    "#37. CARCINOGEN\n",
    "#9. ZIP\n",
    "#12. LATITUDE\n",
    "#13. LONGITUDE\n",
    "#4. FACILITY NAME\n",
    "#96. TOTAL RELEASES \n",
    "#1. YEAR\n",
    "\n",
    "sel_tri= TRI_df[[\"1. YEAR\",\"96. TOTAL RELEASES\",\"4. FACILITY NAME\",\n",
    "                 \"13. LONGITUDE\",\"12. LATITUDE\",\"9. ZIP\",\"37. CARCINOGEN\",\"30. CHEMICAL\",]]\n",
    "\n",
    "sel_tri.head()"
   ]
  },
  {
   "cell_type": "markdown",
   "metadata": {},
   "source": [
    "What is the unit of the total release? "
   ]
  },
  {
   "cell_type": "code",
   "execution_count": 21,
   "metadata": {},
   "outputs": [
    {
     "data": {
      "text/plain": [
       "Text(0, 0.5, 'Releases')"
      ]
     },
     "execution_count": 21,
     "metadata": {},
     "output_type": "execute_result"
    },
    {
     "data": {
      "image/png": "[encoded data removed]",
      "text/plain": [
       "<Figure size 432x288 with 1 Axes>"
      ]
     },
     "metadata": {
      "needs_background": "light"
     },
     "output_type": "display_data"
    }
   ],
   "source": [
    "#Visualize the data:\n",
    "sel_tri[\"1. YEAR\"].hist()\n",
    "plt.title('TRI: Data Size ')\n",
    "plt.xlabel('Year')\n",
    "plt.ylabel(\"Releases\")\n",
    "#plt.savefig(\"TRI_Year_Hist.png\")"
   ]
  },
  {
   "cell_type": "code",
   "execution_count": 22,
   "metadata": {},
   "outputs": [
    {
     "data": {
      "image/png": "[encoded data removed]",
      "text/plain": [
       "<Figure size 432x288 with 1 Axes>"
      ]
     },
     "metadata": {
      "needs_background": "light"
     },
     "output_type": "display_data"
    }
   ],
   "source": [
    "test = pd.DataFrame()\n",
    "test['t'] = sel_tri.loc[:,\"9. ZIP\"].astype(str).str[:6]\n",
    "test['t'].hist(bins = 30)\n",
    "\n",
    "plt.title('TRI: Zipcodes ')\n",
    "plt.xlabel('Zipcode')\n",
    "plt.ylabel(\"Releases\")\n",
    "plt.savefig(\"TRI_Zips_Hist.png\")"
   ]
  },
  {
   "cell_type": "code",
   "execution_count": 23,
   "metadata": {},
   "outputs": [
    {
     "data": {
      "text/plain": [
       "<matplotlib.axes._subplots.AxesSubplot at 0x11c7f5590>"
      ]
     },
     "execution_count": 23,
     "metadata": {},
     "output_type": "execute_result"
    },
    {
     "data": {
      "image/png": "[encoded data removed]",
      "text/plain": [
       "<Figure size 432x288 with 1 Axes>"
      ]
     },
     "metadata": {
      "needs_background": "light"
     },
     "output_type": "display_data"
    }
   ],
   "source": [
    "unique_subset = sel_tri.drop_duplicates(subset = \"30. CHEMICAL\")\n",
    "unique_subset[\"37. CARCINOGEN\"].hist()"
   ]
  },
  {
   "cell_type": "code",
   "execution_count": 24,
   "metadata": {},
   "outputs": [
    {
     "data": {
      "text/plain": [
       "['LEAD',\n",
       " 'DICHLOROMETHANE',\n",
       " 'BENZENE',\n",
       " 'POLYCYCLIC AROMATIC COMPOUNDS',\n",
       " 'THIOUREA',\n",
       " 'DIOXIN AND DIOXIN-LIKE COMPOUNDS',\n",
       " 'STYRENE',\n",
       " '1,2-DIBROMOETHANE',\n",
       " 'CUMENE',\n",
       " 'ETHYLBENZENE',\n",
       " 'ASBESTOS (FRIABLE)',\n",
       " 'METHYL ISOBUTYL KETONE',\n",
       " 'NAPHTHALENE',\n",
       " 'NICKEL',\n",
       " 'BERYLLIUM COMPOUNDS',\n",
       " 'COBALT',\n",
       " 'CADMIUM COMPOUNDS',\n",
       " 'HEXACHLOROBENZENE',\n",
       " 'NICKEL COMPOUNDS',\n",
       " '1,3-BUTADIENE',\n",
       " 'DI(2-ETHYLHEXYL) PHTHALATE',\n",
       " 'TRICHLOROETHYLENE',\n",
       " 'ETHYLENE OXIDE',\n",
       " 'FORMALDEHYDE',\n",
       " 'TETRACHLOROETHYLENE',\n",
       " 'POLYCHLORINATED BIPHENYLS',\n",
       " 'HYDRAZINE',\n",
       " 'ETHYL ACRYLATE',\n",
       " 'CHLORDANE',\n",
       " '1,2-DICHLOROETHANE',\n",
       " 'ACETALDEHYDE',\n",
       " 'HEPTACHLOR',\n",
       " 'EPICHLOROHYDRIN',\n",
       " '2,4-DINITROTOLUENE',\n",
       " 'CHLOROFORM',\n",
       " 'VINYL CHLORIDE',\n",
       " '1,1,1,2-TETRACHLOROETHANE',\n",
       " 'NITROBENZENE',\n",
       " 'CARBON TETRACHLORIDE',\n",
       " 'TOXAPHENE',\n",
       " 'CREOSOTE',\n",
       " '1,4-DICHLOROBENZENE',\n",
       " 'ISOPRENE',\n",
       " 'ARSENIC',\n",
       " 'MALATHION',\n",
       " 'CHLOROPHENOLS',\n",
       " 'URETHANE',\n",
       " 'DIAZINON',\n",
       " '2,4-D',\n",
       " 'ACRYLONITRILE',\n",
       " 'CADMIUM',\n",
       " '1,1,2,2-TETRACHLOROETHANE',\n",
       " 'ACRYLAMIDE',\n",
       " 'VINYL ACETATE',\n",
       " 'HEXACHLOROETHANE',\n",
       " '1,4-DIOXANE',\n",
       " 'LINDANE',\n",
       " 'PENTACHLOROPHENOL',\n",
       " 'DICHLOROBENZENE (MIXED ISOMERS)',\n",
       " 'BERYLLIUM',\n",
       " 'METHOXONE',\n",
       " 'P-CHLOROANILINE',\n",
       " 'TOLUENE-2,4-DIISOCYANATE',\n",
       " \"4,4'-METHYLENEDIANILINE\",\n",
       " 'N-NITROSODI-N-BUTYLAMINE',\n",
       " 'AMITROLE',\n",
       " 'N-NITROSO-N-ETHYLUREA',\n",
       " 'BENZIDINE',\n",
       " 'N-NITROSOPIPERIDINE',\n",
       " '1,3-DICHLOROPROPYLENE',\n",
       " 'TRYPAN BLUE',\n",
       " 'N-NITROSO-N-METHYLUREA',\n",
       " 'DIAMINOTOLUENE (MIXED ISOMERS)',\n",
       " 'O-TOLUIDINE',\n",
       " 'THIOACETAMIDE',\n",
       " 'O-TOLUIDINE HYDROCHLORIDE',\n",
       " 'SAFROLE',\n",
       " 'N-NITROSODIETHYLAMINE',\n",
       " 'TOLUENE DIISOCYANATE (MIXED ISOMERS)',\n",
       " 'NICKEL  and NICKEL COMPOUNDS',\n",
       " 'ACETAMIDE']"
      ]
     },
     "execution_count": 24,
     "metadata": {},
     "output_type": "execute_result"
    }
   ],
   "source": [
    "#What are the declared carcinogens within the data? \n",
    "list(unique_subset[\"30. CHEMICAL\"][unique_subset[\"37. CARCINOGEN\"] == \"YES\"])"
   ]
  },
  {
   "cell_type": "code",
   "execution_count": 25,
   "metadata": {},
   "outputs": [
    {
     "data": {
      "text/plain": [
       "['LEAD COMPOUNDS',\n",
       " 'NITRIC ACID',\n",
       " 'LEAD',\n",
       " 'AMMONIA',\n",
       " 'XYLENE (MIXED ISOMERS)',\n",
       " 'NITRATE COMPOUNDS',\n",
       " 'ZINC COMPOUNDS',\n",
       " 'TOLUENE',\n",
       " 'MANGANESE',\n",
       " 'NICKEL',\n",
       " 'HYDROCHLORIC ACID (1995 AND AFTER ACID AEROSOLS\" ONLY)\"',\n",
       " 'SULFURIC ACID (1994 AND AFTER ACID AEROSOLS\" ONLY)\"',\n",
       " 'CHROMIUM',\n",
       " 'MANGANESE COMPOUNDS',\n",
       " 'COPPER COMPOUNDS',\n",
       " 'COPPER',\n",
       " 'MERCURY COMPOUNDS',\n",
       " 'METHANOL',\n",
       " 'CHROMIUM COMPOUNDS(EXCEPT CHROMITE ORE MINED IN THE TRANSVAAL REGION)',\n",
       " 'POLYCYCLIC AROMATIC COMPOUNDS',\n",
       " 'ETHYLBENZENE',\n",
       " 'HYDROGEN FLUORIDE',\n",
       " 'ETHYLENE GLYCOL',\n",
       " 'N-HEXANE',\n",
       " '1,2,4-TRIMETHYLBENZENE',\n",
       " 'BENZENE',\n",
       " 'NAPHTHALENE',\n",
       " 'DIOXIN AND DIOXIN-LIKE COMPOUNDS',\n",
       " 'NICKEL COMPOUNDS',\n",
       " 'CHLORINE',\n",
       " 'BARIUM COMPOUNDS',\n",
       " 'DIISOCYANATES',\n",
       " 'CERTAIN GLYCOL ETHERS',\n",
       " 'STYRENE',\n",
       " 'CYCLOHEXANE',\n",
       " 'BENZO(G,H,I)PERYLENE',\n",
       " 'PHOSPHORIC ACID',\n",
       " '1,1,1-TRICHLOROETHANE',\n",
       " 'METHYL ETHYL KETONE',\n",
       " 'PROPYLENE',\n",
       " 'ALUMINUM (FUME OR DUST)',\n",
       " 'MERCURY',\n",
       " 'ETHYLENE',\n",
       " 'METHYL ISOBUTYL KETONE',\n",
       " 'ACETONE',\n",
       " 'VANADIUM COMPOUNDS',\n",
       " 'DICHLOROMETHANE',\n",
       " 'PHENOL',\n",
       " 'ANTIMONY COMPOUNDS',\n",
       " 'CUMENE',\n",
       " 'ARSENIC COMPOUNDS',\n",
       " 'COBALT COMPOUNDS',\n",
       " 'SELENIUM COMPOUNDS',\n",
       " 'FORMALDEHYDE',\n",
       " 'SILVER COMPOUNDS',\n",
       " 'POLYCHLORINATED BIPHENYLS',\n",
       " 'CRESOL (MIXED ISOMERS)',\n",
       " 'NITROGLYCERIN',\n",
       " 'CADMIUM COMPOUNDS',\n",
       " 'DIETHANOLAMINE',\n",
       " 'ZINC (FUME OR DUST)',\n",
       " 'FREON 113',\n",
       " 'ASBESTOS (FRIABLE)',\n",
       " 'TETRACHLOROETHYLENE',\n",
       " '1,3-BUTADIENE',\n",
       " 'ANTHRACENE',\n",
       " 'SODIUM HYDROXIDE (SOLUTION)',\n",
       " 'N-BUTYL ALCOHOL',\n",
       " 'BIPHENYL',\n",
       " 'SODIUM AZIDE',\n",
       " 'HEXACHLOROBENZENE',\n",
       " 'MOLYBDENUM TRIOXIDE',\n",
       " 'ALUMINUM OXIDE (FIBROUS FORMS)',\n",
       " 'CYANIDE COMPOUNDS',\n",
       " 'BARIUM',\n",
       " 'PHENANTHRENE',\n",
       " 'TRICHLOROETHYLENE',\n",
       " 'CARBON DISULFIDE',\n",
       " 'CARBONYL SULFIDE',\n",
       " 'SODIUM NITRITE',\n",
       " 'HYDROGEN CYANIDE',\n",
       " 'METHYL TERT-BUTYL ETHER',\n",
       " 'BERYLLIUM COMPOUNDS',\n",
       " '1,1-DICHLORO-1-FLUOROETHANE',\n",
       " 'SILVER',\n",
       " 'COBALT',\n",
       " 'ETHYLENE OXIDE',\n",
       " 'THALLIUM COMPOUNDS',\n",
       " '1,4-DIOXANE',\n",
       " 'FORMIC ACID',\n",
       " 'N-METHYL-2-PYRROLIDONE',\n",
       " 'THIOUREA',\n",
       " 'HYDROGEN SULFIDE',\n",
       " 'SODIUM DIMETHYLDITHIOCARBAMATE',\n",
       " 'N,N-DIMETHYLFORMAMIDE',\n",
       " 'CREOSOTE',\n",
       " 'TITANIUM TETRACHLORIDE',\n",
       " 'METHYLENEBIS(PHENYLISOCYANATE)',\n",
       " 'CADMIUM',\n",
       " 'DI(2-ETHYLHEXYL) PHTHALATE',\n",
       " 'AMMONIUM NITRATE (SOLUTION)',\n",
       " 'CARBON TETRACHLORIDE',\n",
       " 'MIXTURE',\n",
       " 'SELENIUM',\n",
       " 'DIBUTYL PHTHALATE',\n",
       " 'ACETONITRILE',\n",
       " 'CHLOROFORM',\n",
       " 'PHOSGENE',\n",
       " '1,2-DICHLOROETHANE',\n",
       " 'PYRIDINE',\n",
       " 'AMMONIUM SULFATE (SOLUTION)',\n",
       " 'CHLORODIFLUOROMETHANE',\n",
       " 'CHLORDANE',\n",
       " \"4,4'-ISOPROPYLIDENEDIPHENOL\",\n",
       " 'HYDROQUINONE',\n",
       " 'TOXAPHENE',\n",
       " 'M-XYLENE',\n",
       " 'DIBENZOFURAN',\n",
       " 'ALDRIN',\n",
       " 'HEPTACHLOR',\n",
       " 'ARSENIC',\n",
       " 'CHLOROBENZENE',\n",
       " '1,4-DICHLOROBENZENE',\n",
       " '2,2-DICHLORO-1,1,1-TRIFLUOROETHANE',\n",
       " 'OCTACHLOROSTYRENE',\n",
       " 'OZONE',\n",
       " 'LEAD  and LEAD COMPOUNDS',\n",
       " '1-(3-CHLOROALLYL)-3,5,7-TRIAZA-1-AZONIAADAMANTANE CHLORIDE',\n",
       " 'METHOXYCHLOR',\n",
       " '2,4-D',\n",
       " 'TRIFLURALIN',\n",
       " '2-METHOXYETHANOL',\n",
       " 'PERACETIC ACID',\n",
       " 'PENTACHLOROPHENOL',\n",
       " '2-ETHOXYETHANOL',\n",
       " 'VINYL ACETATE',\n",
       " 'DIAZINON',\n",
       " 'LINDANE',\n",
       " 'TRIETHYLAMINE',\n",
       " '2,4-DINITROTOLUENE',\n",
       " 'P-XYLENE',\n",
       " 'TETRABROMOBISPHENOL A',\n",
       " 'WARFARIN AND SALTS',\n",
       " 'O-XYLENE',\n",
       " 'MALATHION',\n",
       " 'CHLOROPHENOLS',\n",
       " 'DICHLOROBENZENE (MIXED ISOMERS)',\n",
       " 'METHYL METHACRYLATE',\n",
       " 'URETHANE',\n",
       " 'ANILINE',\n",
       " 'VINYL CHLORIDE',\n",
       " 'ISOPROPYL ALCOHOL (MANUFACTURING,STRONG-ACID PROCESS ONLY,NO SUPPLIER)',\n",
       " 'ISODRIN',\n",
       " 'FLUORINE',\n",
       " 'O-CRESOL',\n",
       " 'PENTACHLOROBENZENE',\n",
       " 'TRICHLOROFLUOROMETHANE',\n",
       " 'SEC-BUTYL ALCOHOL',\n",
       " 'NITROBENZENE',\n",
       " '1,2-DICHLOROBENZENE',\n",
       " 'TOLUENE-2,4-DIISOCYANATE',\n",
       " 'NICOTINE AND SALTS',\n",
       " 'PENDIMETHALIN',\n",
       " '1,2-DIBROMOETHANE',\n",
       " 'CAPTAN',\n",
       " 'COPPER  and COPPER COMPOUNDS',\n",
       " 'ISOPRENE',\n",
       " 'DINITROTOLUENE (MIXED ISOMERS)',\n",
       " 'SODIUM SULFATE (SOLUTION)',\n",
       " 'P-CRESOL',\n",
       " 'HEXACHLOROETHANE',\n",
       " 'HEXACHLOROPHENE',\n",
       " 'MERCURY  and MERCURY COMPOUNDS',\n",
       " 'LINURON',\n",
       " 'ACRYLAMIDE',\n",
       " 'DICHLORODIFLUOROMETHANE',\n",
       " 'VANADIUM (EXCEPT WHEN CONTAINED IN AN ALLOY)',\n",
       " 'STRYCHNINE AND SALTS',\n",
       " 'ANTIMONY',\n",
       " 'QUINOLINE',\n",
       " '1,1,1,2-TETRACHLOROETHANE',\n",
       " 'EPICHLOROHYDRIN',\n",
       " 'ETHYL ACRYLATE',\n",
       " 'BERYLLIUM',\n",
       " '1,1,2,2-TETRACHLOROETHANE',\n",
       " 'NITRAPYRIN',\n",
       " 'BROMOMETHANE',\n",
       " 'ACRYLONITRILE',\n",
       " '1,2-DICHLOROETHYLENE',\n",
       " 'DECABROMODIPHENYL OXIDE',\n",
       " '1,3-DICHLOROPROPYLENE',\n",
       " 'PARALDEHYDE',\n",
       " '1,2,4-TRICHLOROBENZENE',\n",
       " 'MANGANESE  and MANGANESE COMPOUNDS',\n",
       " 'PICRIC ACID',\n",
       " 'TRYPAN BLUE',\n",
       " 'HYDRAZINE',\n",
       " 'CHLOROMETHANE',\n",
       " 'ACETALDEHYDE',\n",
       " 'N-NITROSO-N-METHYLUREA',\n",
       " 'BROMOCHLORODIFLUOROMETHANE',\n",
       " 'THIRAM',\n",
       " 'THIOACETAMIDE',\n",
       " 'DIAMINOTOLUENE (MIXED ISOMERS)',\n",
       " 'N-DIOCTYL PHTHALATE',\n",
       " 'PRONAMIDE',\n",
       " '1-BROMOPROPANE',\n",
       " 'N-NITROSOPIPERIDINE',\n",
       " 'ACETOPHENONE',\n",
       " 'BENZIDINE',\n",
       " 'AMITROLE',\n",
       " 'DIURON',\n",
       " 'METHACRYLONITRILE',\n",
       " 'BROMOTRIFLUOROMETHANE',\n",
       " 'SAFROLE',\n",
       " 'TOLUENE DIISOCYANATE (MIXED ISOMERS)',\n",
       " 'TERT-BUTYL ALCOHOL',\n",
       " 'O-TOLUIDINE',\n",
       " 'PHOSPHORUS (YELLOW OR WHITE)',\n",
       " 'CARBARYL',\n",
       " 'N-NITROSODI-N-BUTYLAMINE',\n",
       " 'O-TOLUIDINE HYDROCHLORIDE',\n",
       " \"4,4'-METHYLENEDIANILINE\",\n",
       " 'METHOXONE',\n",
       " 'N-NITROSO-N-ETHYLUREA',\n",
       " '1,1,2-TRICHLOROETHANE',\n",
       " 'PHTHALIC ANHYDRIDE',\n",
       " 'N-NITROSODIETHYLAMINE',\n",
       " 'NICKEL  and NICKEL COMPOUNDS',\n",
       " 'BENOMYL',\n",
       " 'METHYL CHLOROCARBONATE',\n",
       " 'DIPHENYLAMINE',\n",
       " 'ISOBUTYRALDEHYDE',\n",
       " 'ACRYLIC ACID',\n",
       " 'PIPERONYL BUTOXIDE',\n",
       " 'BENZOYL PEROXIDE',\n",
       " 'PENTACHLOROETHANE',\n",
       " 'ORYZALIN',\n",
       " 'NALED',\n",
       " 'ACEPHATE',\n",
       " 'MELAMINE',\n",
       " '1-CHLORO-1,1-DIFLUOROETHANE',\n",
       " '2-PHENYLPHENOL',\n",
       " 'SELENIUM  and SELENIUM COMPOUNDS',\n",
       " 'CROTONALDEHYDE',\n",
       " 'BROMOXYNIL OCTANOATE',\n",
       " 'MALEIC ANHYDRIDE',\n",
       " 'HEXACHLORO-1,3-BUTADIENE',\n",
       " 'BARIUM  and BARIUM COMPOUNDS',\n",
       " 'DICYCLOPENTADIENE',\n",
       " 'P-CHLOROANILINE',\n",
       " 'DIMETHYL PHTHALATE',\n",
       " 'ACETAMIDE',\n",
       " 'DIMETHOATE',\n",
       " 'SACCHARIN (MANUFACTURING, NO SUPPLIER NOTIFICATION)',\n",
       " '1,3-PHENYLENEDIAMINE',\n",
       " 'DICAMBA']"
      ]
     },
     "execution_count": 25,
     "metadata": {},
     "output_type": "execute_result"
    }
   ],
   "source": [
    "#Which chemicals have the most observations? \n",
    "a = sel_tri[\"30. CHEMICAL\"].value_counts()\n",
    "list(a.keys())"
   ]
  },
  {
   "cell_type": "code",
   "execution_count": 37,
   "metadata": {},
   "outputs": [
    {
     "name": "stdout",
     "output_type": "stream",
     "text": [
      "LEAD COMPOUNDS has the greatest number of observations with 870 data entries\n",
      "DICAMBA has the fewest number of observations with 1 data entries\n"
     ]
    }
   ],
   "source": [
    "#Approximately how many data points are there, per chemical. \n",
    "list(a)\n",
    "print(\"{0} has the greatest number of observations with {1} data entries\".format(a.keys()[0],max(a)))\n",
    "print(\"{0} has the fewest number of observations with {1} data entries\".format(a.keys()[-1],min(a)))"
   ]
  },
  {
   "cell_type": "markdown",
   "metadata": {},
   "source": [
    "## Conclusions: \n",
    "\n",
    "1. The environmental accidents dataset has coverage from 1990-2018 concerning the "
   ]
  },
  {
   "cell_type": "code",
   "execution_count": null,
   "metadata": {},
   "outputs": [],
   "source": []
  }
 ],
 "metadata": {
  "kernelspec": {
   "display_name": "Python 3",
   "language": "python",
   "name": "python3"
  },
  "language_info": {
   "codemirror_mode": {
    "name": "ipython",
    "version": 3
   },
   "file_extension": ".py",
   "mimetype": "text/x-python",
   "name": "python",
   "nbconvert_exporter": "python",
   "pygments_lexer": "ipython3",
   "version": "3.8.2"
  }
 },
 "nbformat": 4,
 "nbformat_minor": 2
}
