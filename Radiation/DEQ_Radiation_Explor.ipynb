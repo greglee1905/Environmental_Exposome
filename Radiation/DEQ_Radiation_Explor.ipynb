{
 "cells": [
  {
   "cell_type": "markdown",
   "metadata": {},
   "source": [
    "# Exploration: DEQ Radiation Data"
   ]
  },
  {
   "cell_type": "markdown",
   "metadata": {},
   "source": [
    "This data comes from the DEQ:\n",
    "<br>Contact:Jennifer Nelson <jennifernelson@utah.gov> and the Utah Interactive DEQ Map\n",
    "\n",
    "<br>Information on Data: EPA uses the unregulated contaminant monitoring rule to collect data for contaminants that are suspected to be present in drinking water and do not have health-based standards set under the SDWA. \n",
    "\n",
    "<br>Per each of the blocks, the EPA reviews contaminants that have been evaluated through existing prioritization processes, inluding previous contaminants and the CCL. Additional contaminants may be identfied based on current research. \n",
    "\n",
    "<br>Chemicals that are not registered for use in the US, do not have an anlytical reference standard, or do not have an analytical method ready for use are generally not considered. \n",
    "\n",
    "| Known Carcinogens | Probable Carcinogens | Possible Carcinogens |\n",
    "|------|------|------|\n",
    "|1,3 – butadiene (13-15)|Diazinon (01-05)|2,4,6-trichlorophenol (01-05)|\n",
    "|Stontium-90 (13-15)|N-nitroso-diethylamine (NDEA) (08-10)|N-nitroso-di-n-butylamine (NDBA) (08-10)|\n",
    "|Chromium (VI) (13-15)|N-nitroso-dimethylamine (NDMA) (08-10)|N-nitroso-di-n-propylamine (NDPA)  (08-10)|\n",
    "|alpha-hexachlorocyclohexane (18-20)|1,2,3 – trichloropropane (13-15)|N-nitroso-methylethylamine (NMEA)  (08-10)|\n",
    "|O-toluidine  (18-20)|Methyl Chloride (Chloromethane) (18-20)|N-nitroso-pyrrolidine  (NPYR) (08-10) |\n",
    "||Methyl Chloride (Chloromethane)(18-20)|1,1 – Dichloroethane (13-15)|\n",
    "|||1,4-dioxane (13-15)|\n",
    "|||Vanadium (13-15)|\n",
    "|||Molybdenum (13-15)|\n",
    "|||Butylated hydroxyanisole (18-20)|\n",
    "|||Quinoline (18-20)|\n",
    "|||Microcystin –LR (18-20)|\n",
    "\n",
    "Data is downloaded as .xlsx sheets per each of the UCMR block runs. Selecting known carcinogens for exploration first. "
   ]
  }
 ],
 "metadata": {
  "kernelspec": {
   "display_name": "Python 3",
   "language": "python",
   "name": "python3"
  },
  "language_info": {
   "codemirror_mode": {
    "name": "ipython",
    "version": 3
   },
   "file_extension": ".py",
   "mimetype": "text/x-python",
   "name": "python",
   "nbconvert_exporter": "python",
   "pygments_lexer": "ipython3",
   "version": "3.7.4"
  }
 },
 "nbformat": 4,
 "nbformat_minor": 2
}
