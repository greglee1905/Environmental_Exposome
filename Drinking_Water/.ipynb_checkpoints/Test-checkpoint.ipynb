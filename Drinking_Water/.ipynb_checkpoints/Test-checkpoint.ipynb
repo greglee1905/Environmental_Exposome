{
 "cells": [
  {
   "cell_type": "markdown",
   "metadata": {},
   "source": [
    "# Test Notebook \n",
    "Random stuff and experiments go here!\n",
    "<br>gl\n",
    "<br>01.22.20"
   ]
  },
  {
   "cell_type": "code",
   "execution_count": 1,
   "metadata": {},
   "outputs": [],
   "source": [
    "#Basics Importants:\n",
    "import pandas as pd\n",
    "import numpy as np\n",
    "import matplotlib as plt"
   ]
  },
  {
   "cell_type": "markdown",
   "metadata": {},
   "source": [
    "### Jim Vanderslice: CASRNs\n"
   ]
  },
  {
   "cell_type": "code",
   "execution_count": null,
   "metadata": {},
   "outputs": [],
   "source": [
    "iarc_df = pd.read_csv('C:\\IARC_Class_Full_List.csv')\n",
    "iarc_df.head()"
   ]
  },
  {
   "cell_type": "markdown",
   "metadata": {},
   "source": [
    "### 01.22.20: National Water Quality Data (SORET db and more)"
   ]
  },
  {
   "cell_type": "code",
   "execution_count": 8,
   "metadata": {},
   "outputs": [
    {
     "name": "stdout",
     "output_type": "stream",
     "text": [
      "Most of this data seems familiar from the AWQMS Data. Let's see if it is all produced by UTAHDWQ\n"
     ]
    }
   ],
   "source": [
    "# Importing Air Data\n",
    "path = 'C:\\\\Users\\\\u0890227\\\\Desktop\\\\'\n",
    "Nat_Wat_Qu = pd.read_csv(path + 'Nat_Wat_Qual.csv',nrows=5)\n",
    "print(\"Most of this data seems familiar from the AWQMS Data. Let's see if it is all produced by UTAHDWQ\")"
   ]
  },
  {
   "cell_type": "code",
   "execution_count": null,
   "metadata": {},
   "outputs": [],
   "source": [
    "#Use a lambda logic function to import only every 1000 data entries\n",
    "def funnel(index):\n",
    "    if index%10000000000 == 0:\n",
    "        return True\n",
    "    return False\n",
    "\n",
    "Nat_Wat_Qu = pd.read_csv(path + 'Nat_Wat_Qual.csv', skiprows = lambda x:funnel(x))"
   ]
  },
  {
   "cell_type": "code",
   "execution_count": null,
   "metadata": {},
   "outputs": [],
   "source": []
  },
  {
   "cell_type": "code",
   "execution_count": 2,
   "metadata": {},
   "outputs": [],
   "source": [
    "# Importing Air Data\n",
    "path = 'C:\\\\Users\\\\u0890227\\\\Desktop\\\\'\n",
    "test = pd.read_csv (path + 'photos.txt',  sep=\"\\t\", header=0)"
   ]
  },
  {
   "cell_type": "code",
   "execution_count": 19,
   "metadata": {},
   "outputs": [
    {
     "data": {
      "text/html": [
       "<div>\n",
       "<style scoped>\n",
       "    .dataframe tbody tr th:only-of-type {\n",
       "        vertical-align: middle;\n",
       "    }\n",
       "\n",
       "    .dataframe tbody tr th {\n",
       "        vertical-align: top;\n",
       "    }\n",
       "\n",
       "    .dataframe thead th {\n",
       "        text-align: right;\n",
       "    }\n",
       "</style>\n",
       "<table border=\"1\" class=\"dataframe\">\n",
       "  <thead>\n",
       "    <tr style=\"text-align: right;\">\n",
       "      <th></th>\n",
       "      <th>id</th>\n",
       "      <th>file_name</th>\n",
       "      <th>state</th>\n",
       "      <th>county</th>\n",
       "      <th>mine_name</th>\n",
       "      <th>plss</th>\n",
       "      <th>quad</th>\n",
       "      <th>mineral</th>\n",
       "      <th>author</th>\n",
       "      <th>photonum</th>\n",
       "      <th>caption</th>\n",
       "      <th>w</th>\n",
       "      <th>h</th>\n",
       "      <th>color</th>\n",
       "      <th>fips</th>\n",
       "    </tr>\n",
       "  </thead>\n",
       "  <tbody>\n",
       "    <tr>\n",
       "      <td>0</td>\n",
       "      <td>1</td>\n",
       "      <td>bal0017</td>\n",
       "      <td>Colorado</td>\n",
       "      <td>Garfield</td>\n",
       "      <td>Coryell Coal Mine</td>\n",
       "      <td>NaN</td>\n",
       "      <td>NaN</td>\n",
       "      <td>NaN</td>\n",
       "      <td>Beekly, A.L.</td>\n",
       "      <td>17:</td>\n",
       "      <td>Coryell Coal Mine,  looking northwest,  Newcas...</td>\n",
       "      <td>1262</td>\n",
       "      <td>833</td>\n",
       "      <td>Gray</td>\n",
       "      <td>f08045</td>\n",
       "    </tr>\n",
       "    <tr>\n",
       "      <td>1</td>\n",
       "      <td>2</td>\n",
       "      <td>bal0018</td>\n",
       "      <td>Colorado</td>\n",
       "      <td>Garfield</td>\n",
       "      <td>Experimental cement plant</td>\n",
       "      <td>NaN</td>\n",
       "      <td>NaN</td>\n",
       "      <td>Cement</td>\n",
       "      <td>Beekly, A.L.</td>\n",
       "      <td>18:</td>\n",
       "      <td>Experimental Cement Plant, Newcastle.  Garfiel...</td>\n",
       "      <td>1251</td>\n",
       "      <td>902</td>\n",
       "      <td>Gray</td>\n",
       "      <td>f08045</td>\n",
       "    </tr>\n",
       "    <tr>\n",
       "      <td>2</td>\n",
       "      <td>3</td>\n",
       "      <td>bal0021</td>\n",
       "      <td>Colorado</td>\n",
       "      <td>Garfield</td>\n",
       "      <td>South Canyon mines</td>\n",
       "      <td>NaN</td>\n",
       "      <td>NaN</td>\n",
       "      <td>NaN</td>\n",
       "      <td>Beekly, A.L.</td>\n",
       "      <td>21:</td>\n",
       "      <td>South Canyon Mines,  South Canon.   Garfield C...</td>\n",
       "      <td>1247</td>\n",
       "      <td>897</td>\n",
       "      <td>Gray</td>\n",
       "      <td>f08045</td>\n",
       "    </tr>\n",
       "    <tr>\n",
       "      <td>3</td>\n",
       "      <td>4</td>\n",
       "      <td>bal0051</td>\n",
       "      <td>Colorado</td>\n",
       "      <td>Pitkin</td>\n",
       "      <td>Spring Gulch mining camp</td>\n",
       "      <td>NaN</td>\n",
       "      <td>NaN</td>\n",
       "      <td>NaN</td>\n",
       "      <td>Beekly, A.L.</td>\n",
       "      <td>51:</td>\n",
       "      <td>Spring Gulch mining camp. Panorama with No. 52...</td>\n",
       "      <td>1248</td>\n",
       "      <td>867</td>\n",
       "      <td>Gray</td>\n",
       "      <td>f08097</td>\n",
       "    </tr>\n",
       "    <tr>\n",
       "      <td>4</td>\n",
       "      <td>5</td>\n",
       "      <td>bal0068</td>\n",
       "      <td>Colorado</td>\n",
       "      <td>Pitkin</td>\n",
       "      <td>Redstone Coking Plant</td>\n",
       "      <td>NaN</td>\n",
       "      <td>NaN</td>\n",
       "      <td>Coke</td>\n",
       "      <td>Beekly, A.L.</td>\n",
       "      <td>68:</td>\n",
       "      <td>Redstone coking plant,  Redstone. Pitkin Count...</td>\n",
       "      <td>1272</td>\n",
       "      <td>859</td>\n",
       "      <td>Gray</td>\n",
       "      <td>f08097</td>\n",
       "    </tr>\n",
       "  </tbody>\n",
       "</table>\n",
       "</div>"
      ],
      "text/plain": [
       "   id file_name     state    county                  mine_name plss quad  \\\n",
       "0   1   bal0017  Colorado  Garfield          Coryell Coal Mine  NaN  NaN   \n",
       "1   2   bal0018  Colorado  Garfield  Experimental cement plant  NaN  NaN   \n",
       "2   3   bal0021  Colorado  Garfield         South Canyon mines  NaN  NaN   \n",
       "3   4   bal0051  Colorado    Pitkin   Spring Gulch mining camp  NaN  NaN   \n",
       "4   5   bal0068  Colorado    Pitkin      Redstone Coking Plant  NaN  NaN   \n",
       "\n",
       "  mineral        author photonum  \\\n",
       "0     NaN  Beekly, A.L.      17:   \n",
       "1  Cement  Beekly, A.L.      18:   \n",
       "2     NaN  Beekly, A.L.      21:   \n",
       "3     NaN  Beekly, A.L.      51:   \n",
       "4    Coke  Beekly, A.L.      68:   \n",
       "\n",
       "                                             caption     w    h color    fips  \n",
       "0  Coryell Coal Mine,  looking northwest,  Newcas...  1262  833  Gray  f08045  \n",
       "1  Experimental Cement Plant, Newcastle.  Garfiel...  1251  902  Gray  f08045  \n",
       "2  South Canyon Mines,  South Canon.   Garfield C...  1247  897  Gray  f08045  \n",
       "3  Spring Gulch mining camp. Panorama with No. 52...  1248  867  Gray  f08097  \n",
       "4  Redstone coking plant,  Redstone. Pitkin Count...  1272  859  Gray  f08097  "
      ]
     },
     "execution_count": 19,
     "metadata": {},
     "output_type": "execute_result"
    }
   ],
   "source": [
    "air_poll.head()"
   ]
  },
  {
   "cell_type": "code",
   "execution_count": 11,
   "metadata": {},
   "outputs": [],
   "source": [
    "#Data Sources\n",
    "Data_Categories = ['Air Pollution','Chemicals/Hazardous Waste','Radiation','Ground Water','Drinking Water', 'Heavy Metals'\n",
    "                  ,'Environmental Clean-Up Sites','Other']\n",
    "Data_Size = [2]"
   ]
  }
 ],
 "metadata": {
  "kernelspec": {
   "display_name": "Python 3",
   "language": "python",
   "name": "python3"
  },
  "language_info": {
   "codemirror_mode": {
    "name": "ipython",
    "version": 3
   },
   "file_extension": ".py",
   "mimetype": "text/x-python",
   "name": "python",
   "nbconvert_exporter": "python",
   "pygments_lexer": "ipython3",
   "version": "3.7.4"
  }
 },
 "nbformat": 4,
 "nbformat_minor": 2
}
