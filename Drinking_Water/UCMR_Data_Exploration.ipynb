{
 "cells": [
  {
   "cell_type": "markdown",
   "metadata": {},
   "source": [
    "# Exploration: Unregulated Contaminant Monitoring Rule (UCMR)"
   ]
  },
  {
   "cell_type": "markdown",
   "metadata": {},
   "source": [
    "This data comes from the EPA:\n",
    "<br>Link: https://www.epa.gov/dwucmr/occurrence-data-unregulated-contaminant-monitoring-rule#12\n",
    "\n",
    "<br>Information on Data: EPA uses the unregulated contaminant monitoring rule to collect data for contaminants that are suspected to be present in drinking water and do not have health-based standards set under the SDWA. \n",
    "\n",
    "<br>Per each of the blocks, the EPA reviews contaminants that have been evaluated through existing prioritization processes, inluding previous contaminants and the CCL. Additional contaminants may be identfied based on current research. \n",
    "\n",
    "<br>Chemicals that are not registered for use in the US, do not have an anlytical reference standard, or do not have an analytical method ready for use are generally not considered. \n",
    "\n",
    "| Known Carcinogens | Probable Carcinogens | Possible Carcinogens |\n",
    "|------|------|------|\n",
    "|1,3 – butadiene (13-15)|Diazinon (01-05)|2,4,6-trichlorophenol (01-05)|\n",
    "|Stontium-90 (13-15)|N-nitroso-diethylamine (NDEA) (08-10)|N-nitroso-di-n-butylamine (NDBA) (08-10)|\n",
    "|Chromium (VI) (13-15)|N-nitroso-dimethylamine (NDMA) (08-10)|N-nitroso-di-n-propylamine (NDPA)  (08-10)|\n",
    "|alpha-hexachlorocyclohexane (18-20)|1,2,3 – trichloropropane (13-15)|N-nitroso-methylethylamine (NMEA)  (08-10)|\n",
    "|O-toluidine  (18-20)|Methyl Chloride (Chloromethane) (18-20)|N-nitroso-pyrrolidine  (NPYR) (08-10) |\n",
    "||Methyl Chloride (Chloromethane)(18-20)|1,1 – Dichloroethane (13-15)|\n",
    "|||1,4-dioxane (13-15)|\n",
    "|||Vanadium (13-15)|\n",
    "|||Molybdenum (13-15)|\n",
    "|||Butylated hydroxyanisole (18-20)|\n",
    "|||Quinoline (18-20)|\n",
    "|||Microcystin –LR (18-20)|\n",
    "\n",
    "Data is downloaded as .xlsx sheets per each of the UCMR block runs. Selecting known carcinogens for exploration first. "
   ]
  },
  {
   "cell_type": "markdown",
   "metadata": {},
   "source": [
    "## Let's explore the known carcinogens: "
   ]
  },
  {
   "cell_type": "code",
   "execution_count": 80,
   "metadata": {},
   "outputs": [],
   "source": [
    "#Library Imports: \n",
    "\n",
    "#Basic py: \n",
    "import numpy as np\n",
    "import matplotlib.pyplot as plt\n",
    "import pandas as pd\n",
    "import datetime\n",
    "import glob\n",
    "import random\n",
    "import base64\n",
    "from PIL import Image\n",
    "from io import BytesIO\n",
    "from IPython.display import HTML\n",
    "import io\n",
    "import pdfkit\n",
    "\n",
    "#Geo\n",
    "import geopandas as gpd\n",
    "import fiona\n",
    "from shapely.geometry import Point\n",
    "import descartes"
   ]
  },
  {
   "cell_type": "markdown",
   "metadata": {},
   "source": [
    "### UCMR3 2013-2015"
   ]
  },
  {
   "cell_type": "code",
   "execution_count": 81,
   "metadata": {},
   "outputs": [
    {
     "name": "stderr",
     "output_type": "stream",
     "text": [
      "C:\\Users\\u0890227\\anaconda3\\lib\\site-packages\\IPython\\core\\interactiveshell.py:3058: DtypeWarning: Columns (10) have mixed types. Specify dtype option on import or set low_memory=False.\n",
      "  interactivity=interactivity, compiler=compiler, result=result)\n"
     ]
    }
   ],
   "source": [
    "path = 'C:\\\\Users\\\\u0890227\\\\Desktop\\\\UCMR\\\\'\n",
    "\n",
    "#Data From MA - WY\n",
    "UCMR3_MA_WY_df = pd.read_csv(path + \"ucmr-3-occurrence-data-by-state\\\\UCMR3_All_MA_WY.txt\", \n",
    "                       sep=\"\\t\", header=0,encoding = \"ISO-8859-1\")\n",
    "UCMR3_AK_LA_df = pd.read_csv(path + \"ucmr-3-occurrence-data-by-state\\\\UCMR3_All_Tribes_AK_LA.txt\", \n",
    "                       sep=\"\\t\", header=0,encoding = \"ISO-8859-1\")\n",
    "UCMR3_DT_df = pd.read_csv(path + \"ucmr-3-occurrence-data-by-state\\\\UCMR3_DT.txt\", \n",
    "                       sep=\"\\t\", header=0,encoding = \"ISO-8859-1\")\n",
    "UCMR3_ZIPS_df = pd.read_csv(path + \"ucmr-3-occurrence-data-by-state\\\\UCMR3_ZipCodes.txt\", \n",
    "                       sep=\"\\t\", header=0,encoding = \"ISO-8859-1\")"
   ]
  },
  {
   "cell_type": "code",
   "execution_count": 82,
   "metadata": {},
   "outputs": [
    {
     "name": "stdout",
     "output_type": "stream",
     "text": [
      "There are a total of 15553 values in the Utah portion of the dataset\n"
     ]
    }
   ],
   "source": [
    "UCMR3_df = pd.concat([UCMR3_MA_WY_df,UCMR3_AK_LA_df],axis=0)\n",
    "UCMR3_df.sort_values(by = [\"State\"])\n",
    "UT_UCMR3_df = UCMR3_df[UCMR3_df.loc[:,\"State\"] == 'UT']\n",
    "print(\"There are a total of %d values in the Utah portion of the dataset\" %UT_UCMR3_df.shape[0])"
   ]
  },
  {
   "cell_type": "code",
   "execution_count": 170,
   "metadata": {},
   "outputs": [
    {
     "name": "stdout",
     "output_type": "stream",
     "text": [
      "(11700, 2)\n",
      "(15553, 22)\n",
      "(38039, 23)\n"
     ]
    }
   ],
   "source": [
    "UCMR3_ZIPS_df = UCMR3_ZIPS_df.dropna()\n",
    "UCMR3_ZIPS_df.loc[:,'ZIPCODE'] = UCMR3_ZIPS_df.loc[:,'ZIPCODE'].str.strip('-')"
   ]
  },
  {
   "cell_type": "code",
   "execution_count": 231,
   "metadata": {},
   "outputs": [],
   "source": [
    "#Repeats in the data for certain Zipcodes. Need just the unique values\n",
    "UCMR3_ZIPS_df = UCMR3_ZIPS_df.sort_values(by = [\"PWSID\"])\n",
    "UT_ZIPS = UCMR3_ZIPS_df.iloc[10842:10950]\n",
    "UT_ZIPS = UT_ZIPS.drop_duplicates(subset = [\"PWSID\"])"
   ]
  },
  {
   "cell_type": "code",
   "execution_count": 232,
   "metadata": {},
   "outputs": [
    {
     "data": {
      "text/plain": [
       "chlorate                     826\n",
       "chromium-6                   824\n",
       "cobalt                       819\n",
       "molybdenum                   819\n",
       "strontium                    819\n",
       "vanadium                     819\n",
       "chromium                     815\n",
       "1,1-dichloroethane           629\n",
       "PFHxS                        629\n",
       "PFOS                         629\n",
       "PFBS                         629\n",
       "1,2,3-trichloropropane       629\n",
       "bromomethane                 629\n",
       "PFHpA                        629\n",
       "Halon 1011                   629\n",
       "PFOA                         629\n",
       "HCFC-22                      629\n",
       "1,3-butadiene                629\n",
       "chloromethane                629\n",
       "PFNA                         629\n",
       "1,4-dioxane                  627\n",
       "17-alpha-ethynylestradiol    107\n",
       "estriol                      107\n",
       "testosterone                 107\n",
       "17-beta-estradiol            107\n",
       "equilin                      107\n",
       "estrone                      107\n",
       "4-androstene-3,17-dione      107\n",
       "germanium                     61\n",
       "manganese                     61\n",
       "tellurium                     61\n",
       "n-propylbenzene               38\n",
       "sec-butylbenzene              38\n",
       "Name: Contaminant, dtype: int64"
      ]
     },
     "execution_count": 232,
     "metadata": {},
     "output_type": "execute_result"
    }
   ],
   "source": [
    "#Join the Zipcodes for each measurement: \n",
    "UT_Zips_UCMR3_df = pd.merge(UT_UCMR3_df,UT_ZIPS, on = \"PWSID\",how = 'inner')\n",
    "UT_Zips_UCMR3_df[\"Contaminant\"].value_counts()"
   ]
  },
  {
   "cell_type": "markdown",
   "metadata": {},
   "source": [
    "For the chemicals of interest the following data counts are as follows:\n",
    "\n",
    "|Chemical|Total Dataset Counts|\n",
    "|------|------|\n",
    "|chromium-6|824|\n",
    "|strontium|819|\n",
    "|1,3-butadiene|629|"
   ]
  },
  {
   "cell_type": "code",
   "execution_count": 241,
   "metadata": {},
   "outputs": [
    {
     "name": "stdout",
     "output_type": "stream",
     "text": [
      "84043    38\n",
      "84107    37\n",
      "84084    37\n",
      "84070    34\n",
      "84065    32\n",
      "84014    29\n",
      "84015    28\n",
      "84003    26\n",
      "84404    26\n",
      "84663    22\n",
      "Name: ZIPCODE, dtype: int64\n",
      "Decent spread over the SLC basin for measurements. Not many are in rural areas though\n"
     ]
    }
   ],
   "source": [
    "#What is the diversity of locations? \n",
    "#Chromium-6\n",
    "chrom_df = UT_Zips_UCMR3_df[UT_Zips_UCMR3_df.loc[:,\"Contaminant\"] == 'chromium-6']\n",
    "chrom_locs = chrom_df.loc[:,'ZIPCODE'].value_counts()\n",
    "print(chrom_locs.iloc[:10])\n",
    "print(\"Decent spread over the SLC basin for measurements. Not many are in rural areas though\")"
   ]
  },
  {
   "cell_type": "code",
   "execution_count": 247,
   "metadata": {},
   "outputs": [
    {
     "name": "stdout",
     "output_type": "stream",
     "text": [
      "84043    38\n",
      "84107    37\n",
      "84084    37\n",
      "84070    34\n",
      "84065    32\n",
      "84014    29\n",
      "84015    28\n",
      "84003    26\n",
      "84404    26\n",
      "84663    22\n",
      "Name: ZIPCODE, dtype: int64\n",
      "Decent spread over the SLC basin for measurements. Not many are in rural areas though. Identical spread to chromium\n"
     ]
    }
   ],
   "source": [
    "#Strontium\n",
    "strom_df = UT_Zips_UCMR3_df[UT_Zips_UCMR3_df.loc[:,\"Contaminant\"] == 'strontium']\n",
    "strom_locs = strom_df.loc[:,'ZIPCODE'].value_counts()\n",
    "print(strom_locs.iloc[:10])\n",
    "print(\"Decent spread over the SLC basin for measurements. Not many are in rural areas though. Identical spread to chromium\")"
   ]
  },
  {
   "cell_type": "code",
   "execution_count": 249,
   "metadata": {},
   "outputs": [
    {
     "name": "stdout",
     "output_type": "stream",
     "text": [
      "84107    35\n",
      "84084    33\n",
      "84070    30\n",
      "84043    29\n",
      "84065    24\n",
      "84003    22\n",
      "84014    21\n",
      "84663    20\n",
      "84015    18\n",
      "84404    17\n",
      "Name: ZIPCODE, dtype: int64\n",
      "Highest concentration of measurments is in SLC proper, although spread is over the entire basin.\n"
     ]
    }
   ],
   "source": [
    "#Strontium\n",
    "buta_df = UT_Zips_UCMR3_df[UT_Zips_UCMR3_df.loc[:,\"Contaminant\"] == '1,3-butadiene']\n",
    "buta_locs= buta_df.loc[:,'ZIPCODE'].value_counts()\n",
    "print(buta_locs.iloc[:10])\n",
    "print(\"Highest concentration of measurments is in SLC proper, although spread is over the entire basin.\")"
   ]
  },
  {
   "cell_type": "markdown",
   "metadata": {},
   "source": [
    "### UCMR 4 (2018-2020)"
   ]
  },
  {
   "cell_type": "code",
   "execution_count": 88,
   "metadata": {},
   "outputs": [],
   "source": [
    "#Import the data: \n",
    "UCMR4_MA_WY_df = pd.read_csv(path + \"ucmr_4_occurrence_data_by_state\\\\UCMR4_All_MA_WY.txt\", \n",
    "                       sep=\"\\t\", header=0,encoding = \"ISO-8859-1\")\n",
    "UCMR4_AK_LA_df = pd.read_csv(path + \"ucmr_4_occurrence_data_by_state\\\\UCMR4_All_Tribes_AK_LA.txt\", \n",
    "                       sep=\"\\t\", header=0,encoding = \"ISO-8859-1\")\n",
    "UCMR4_Cyanotoxin_AddtlDataElem_df = pd.read_csv(path + \"ucmr_4_occurrence_data_by_state\\\\UCMR4_Cyanotoxin_AddtlDataElem.txt\", \n",
    "                       sep=\"\\t\", header=0,encoding = \"ISO-8859-1\")\n",
    "UCMR4_HAA_AddtlDataElem_df = pd.read_csv(path + \"ucmr_4_occurrence_data_by_state\\\\UCMR4_HAA_AddtlDataElem.txt\", \n",
    "                       sep=\"\\t\", header=0,encoding = \"ISO-8859-1\")\n",
    "UCMR4_ZIPS_df = pd.read_csv(path + \"ucmr_4_occurrence_data_by_state\\\\UCMR4_ZipCodes.txt\", \n",
    "                       sep=\"\\t\", header=0,encoding = \"ISO-8859-1\")"
   ]
  },
  {
   "cell_type": "code",
   "execution_count": 90,
   "metadata": {},
   "outputs": [
    {
     "name": "stdout",
     "output_type": "stream",
     "text": [
      "There are a total of 452650 values in the Utah portion of the dataset\n"
     ]
    }
   ],
   "source": [
    "UCMR4_df = pd.concat([UCMR4_MA_WY_df,UCMR4_AK_LA_df],axis=0)\n",
    "UCMR4_df.sort_values(by = [\"State\"])\n",
    "UT_UCMR4_df = UCMR4_df[UCMR4_df.loc[:,\"State\"] == 'UT']\n",
    "print(\"There are a total of %d values in the Utah portion of the dataset\" %UCMR4_df.shape[0])"
   ]
  },
  {
   "cell_type": "code",
   "execution_count": 97,
   "metadata": {},
   "outputs": [
    {
     "data": {
      "text/html": [
       "<div>\n",
       "<style scoped>\n",
       "    .dataframe tbody tr th:only-of-type {\n",
       "        vertical-align: middle;\n",
       "    }\n",
       "\n",
       "    .dataframe tbody tr th {\n",
       "        vertical-align: top;\n",
       "    }\n",
       "\n",
       "    .dataframe thead th {\n",
       "        text-align: right;\n",
       "    }\n",
       "</style>\n",
       "<table border=\"1\" class=\"dataframe\">\n",
       "  <thead>\n",
       "    <tr style=\"text-align: right;\">\n",
       "      <th></th>\n",
       "      <th>PWSID</th>\n",
       "      <th>ZIPCODE</th>\n",
       "      <th>PWSName</th>\n",
       "      <th>Size</th>\n",
       "      <th>FacilityID</th>\n",
       "      <th>FacilityName</th>\n",
       "      <th>FacilityWaterType</th>\n",
       "      <th>SamplePointID</th>\n",
       "      <th>SamplePointName</th>\n",
       "      <th>SamplePointType</th>\n",
       "      <th>...</th>\n",
       "      <th>SampleID</th>\n",
       "      <th>Contaminant</th>\n",
       "      <th>MRL</th>\n",
       "      <th>MethodID</th>\n",
       "      <th>AnalyticalResultsSign</th>\n",
       "      <th>AnalyticalResultValue(µg/L)</th>\n",
       "      <th>SampleEventCode</th>\n",
       "      <th>MonitoringRequirement</th>\n",
       "      <th>Region</th>\n",
       "      <th>State</th>\n",
       "    </tr>\n",
       "  </thead>\n",
       "  <tbody>\n",
       "    <tr>\n",
       "      <td>0</td>\n",
       "      <td>UTAH02018</td>\n",
       "      <td>84324</td>\n",
       "      <td>Mantua Town Water</td>\n",
       "      <td>S</td>\n",
       "      <td>20001</td>\n",
       "      <td>Spring Chlorinator</td>\n",
       "      <td>GW</td>\n",
       "      <td>EP1</td>\n",
       "      <td>Sample Tap - Spring Chlorinator</td>\n",
       "      <td>EP</td>\n",
       "      <td>...</td>\n",
       "      <td>100370P</td>\n",
       "      <td>1-butanol</td>\n",
       "      <td>2.00</td>\n",
       "      <td>EPA 541</td>\n",
       "      <td>&lt;</td>\n",
       "      <td>NaN</td>\n",
       "      <td>SEA1</td>\n",
       "      <td>AM</td>\n",
       "      <td>8</td>\n",
       "      <td>UT</td>\n",
       "    </tr>\n",
       "    <tr>\n",
       "      <td>1</td>\n",
       "      <td>UTAH02018</td>\n",
       "      <td>84324</td>\n",
       "      <td>Mantua Town Water</td>\n",
       "      <td>S</td>\n",
       "      <td>20001</td>\n",
       "      <td>Spring Chlorinator</td>\n",
       "      <td>GW</td>\n",
       "      <td>EP1</td>\n",
       "      <td>Sample Tap - Spring Chlorinator</td>\n",
       "      <td>EP</td>\n",
       "      <td>...</td>\n",
       "      <td>100370P</td>\n",
       "      <td>2-methoxyethanol</td>\n",
       "      <td>0.40</td>\n",
       "      <td>EPA 541</td>\n",
       "      <td>&lt;</td>\n",
       "      <td>NaN</td>\n",
       "      <td>SEA1</td>\n",
       "      <td>AM</td>\n",
       "      <td>8</td>\n",
       "      <td>UT</td>\n",
       "    </tr>\n",
       "    <tr>\n",
       "      <td>2</td>\n",
       "      <td>UTAH02018</td>\n",
       "      <td>84324</td>\n",
       "      <td>Mantua Town Water</td>\n",
       "      <td>S</td>\n",
       "      <td>20001</td>\n",
       "      <td>Spring Chlorinator</td>\n",
       "      <td>GW</td>\n",
       "      <td>EP1</td>\n",
       "      <td>Sample Tap - Spring Chlorinator</td>\n",
       "      <td>EP</td>\n",
       "      <td>...</td>\n",
       "      <td>100370P</td>\n",
       "      <td>2-propen-1-ol</td>\n",
       "      <td>0.50</td>\n",
       "      <td>EPA 541</td>\n",
       "      <td>&lt;</td>\n",
       "      <td>NaN</td>\n",
       "      <td>SEA1</td>\n",
       "      <td>AM</td>\n",
       "      <td>8</td>\n",
       "      <td>UT</td>\n",
       "    </tr>\n",
       "    <tr>\n",
       "      <td>3</td>\n",
       "      <td>UTAH02018</td>\n",
       "      <td>84324</td>\n",
       "      <td>Mantua Town Water</td>\n",
       "      <td>S</td>\n",
       "      <td>20001</td>\n",
       "      <td>Spring Chlorinator</td>\n",
       "      <td>GW</td>\n",
       "      <td>EP1</td>\n",
       "      <td>Sample Tap - Spring Chlorinator</td>\n",
       "      <td>EP</td>\n",
       "      <td>...</td>\n",
       "      <td>100370P</td>\n",
       "      <td>alpha-hexachlorocyclohexane</td>\n",
       "      <td>0.01</td>\n",
       "      <td>EPA 525.3</td>\n",
       "      <td>&lt;</td>\n",
       "      <td>NaN</td>\n",
       "      <td>SEA1</td>\n",
       "      <td>AM</td>\n",
       "      <td>8</td>\n",
       "      <td>UT</td>\n",
       "    </tr>\n",
       "    <tr>\n",
       "      <td>4</td>\n",
       "      <td>UTAH02018</td>\n",
       "      <td>84324</td>\n",
       "      <td>Mantua Town Water</td>\n",
       "      <td>S</td>\n",
       "      <td>20001</td>\n",
       "      <td>Spring Chlorinator</td>\n",
       "      <td>GW</td>\n",
       "      <td>EP1</td>\n",
       "      <td>Sample Tap - Spring Chlorinator</td>\n",
       "      <td>EP</td>\n",
       "      <td>...</td>\n",
       "      <td>100370P</td>\n",
       "      <td>butylated hydroxyanisole</td>\n",
       "      <td>0.03</td>\n",
       "      <td>EPA 530</td>\n",
       "      <td>&lt;</td>\n",
       "      <td>NaN</td>\n",
       "      <td>SEA1</td>\n",
       "      <td>AM</td>\n",
       "      <td>8</td>\n",
       "      <td>UT</td>\n",
       "    </tr>\n",
       "  </tbody>\n",
       "</table>\n",
       "<p>5 rows × 21 columns</p>\n",
       "</div>"
      ],
      "text/plain": [
       "       PWSID  ZIPCODE            PWSName Size  FacilityID        FacilityName  \\\n",
       "0  UTAH02018    84324  Mantua Town Water    S       20001  Spring Chlorinator   \n",
       "1  UTAH02018    84324  Mantua Town Water    S       20001  Spring Chlorinator   \n",
       "2  UTAH02018    84324  Mantua Town Water    S       20001  Spring Chlorinator   \n",
       "3  UTAH02018    84324  Mantua Town Water    S       20001  Spring Chlorinator   \n",
       "4  UTAH02018    84324  Mantua Town Water    S       20001  Spring Chlorinator   \n",
       "\n",
       "  FacilityWaterType SamplePointID                  SamplePointName  \\\n",
       "0                GW           EP1  Sample Tap - Spring Chlorinator   \n",
       "1                GW           EP1  Sample Tap - Spring Chlorinator   \n",
       "2                GW           EP1  Sample Tap - Spring Chlorinator   \n",
       "3                GW           EP1  Sample Tap - Spring Chlorinator   \n",
       "4                GW           EP1  Sample Tap - Spring Chlorinator   \n",
       "\n",
       "  SamplePointType  ... SampleID                  Contaminant   MRL   MethodID  \\\n",
       "0              EP  ...  100370P                    1-butanol  2.00    EPA 541   \n",
       "1              EP  ...  100370P             2-methoxyethanol  0.40    EPA 541   \n",
       "2              EP  ...  100370P                2-propen-1-ol  0.50    EPA 541   \n",
       "3              EP  ...  100370P  alpha-hexachlorocyclohexane  0.01  EPA 525.3   \n",
       "4              EP  ...  100370P     butylated hydroxyanisole  0.03    EPA 530   \n",
       "\n",
       "  AnalyticalResultsSign AnalyticalResultValue(µg/L)  SampleEventCode  \\\n",
       "0                     <                         NaN             SEA1   \n",
       "1                     <                         NaN             SEA1   \n",
       "2                     <                         NaN             SEA1   \n",
       "3                     <                         NaN             SEA1   \n",
       "4                     <                         NaN             SEA1   \n",
       "\n",
       "  MonitoringRequirement Region  State  \n",
       "0                    AM      8     UT  \n",
       "1                    AM      8     UT  \n",
       "2                    AM      8     UT  \n",
       "3                    AM      8     UT  \n",
       "4                    AM      8     UT  \n",
       "\n",
       "[5 rows x 21 columns]"
      ]
     },
     "execution_count": 97,
     "metadata": {},
     "output_type": "execute_result"
    }
   ],
   "source": [
    "#Join the Zipcodes for each measurement: \n",
    "UT_Zips_UCMR4_df = pd.merge(UCMR4_ZIPS_df,UT_UCMR4_df, on = \"PWSID\",how = 'inner')\n",
    "UT_Zips_UCMR4_df.head()"
   ]
  },
  {
   "cell_type": "code",
   "execution_count": 98,
   "metadata": {},
   "outputs": [
    {
     "data": {
      "text/plain": [
       "germanium                      572\n",
       "manganese                      572\n",
       "2-methoxyethanol               569\n",
       "1-butanol                      569\n",
       "2-propen-1-ol                  569\n",
       "butylated hydroxyanisole       546\n",
       "o-toluidine                    546\n",
       "quinoline                      546\n",
       "tribufos                       535\n",
       "chlorpyrifos                   535\n",
       "oxyfluorfen                    535\n",
       "profenofos                     535\n",
       "tebuconazole                   535\n",
       "ethoprop                       535\n",
       "alpha-hexachlorocyclohexane    535\n",
       "total permethrin               535\n",
       "dimethipin                     535\n",
       "anatoxin-a                     487\n",
       "cylindrospermopsin             487\n",
       "total microcystin              486\n",
       "HAA9                           447\n",
       "HAA6Br                         447\n",
       "HAA5                           447\n",
       "Name: Contaminant, dtype: int64"
      ]
     },
     "execution_count": 98,
     "metadata": {},
     "output_type": "execute_result"
    }
   ],
   "source": [
    "#Counts per each chemical: \n",
    "UT_Zips_UCMR4_df.loc[:,\"Contaminant\"].value_counts()"
   ]
  },
  {
   "cell_type": "markdown",
   "metadata": {},
   "source": [
    "**Known** Carcinogen data counts from UCMR 4:\n",
    "\n",
    "|Chemical|Total Dataset Counts|\n",
    "|------|------|\n",
    "|o-toluidine|546|\n",
    "|alpha-hexachlorocyclohexane |535|"
   ]
  },
  {
   "cell_type": "code",
   "execution_count": 122,
   "metadata": {},
   "outputs": [
    {
     "name": "stdout",
     "output_type": "stream",
     "text": [
      "84121    35\n",
      "84123    35\n",
      "84107    35\n",
      "84106    21\n",
      "84117    21\n",
      "Name: ZIPCODE, dtype: int64\n",
      "Predominantly, the great majority of these measurements are coming from the east bench of SLC\n"
     ]
    }
   ],
   "source": [
    "#What is the diversity of locations? \n",
    "#O-Toluidine\n",
    "o_tol_df = UT_Zips_UCMR4_df[UT_Zips_UCMR4_df.loc[:,\"Contaminant\"] == 'o-toluidine']\n",
    "o_tol_locs = o_tol_df.loc[:,'ZIPCODE'].value_counts()\n",
    "print(o_tol_locs.iloc[:5])\n",
    "print(\"Predominantly, the great majority of these measurements are coming from the east bench of SLC\")"
   ]
  },
  {
   "cell_type": "code",
   "execution_count": 125,
   "metadata": {},
   "outputs": [
    {
     "name": "stdout",
     "output_type": "stream",
     "text": [
      "84123    31\n",
      "84121    31\n",
      "84107    31\n",
      "84043    20\n",
      "84060    20\n",
      "Name: ZIPCODE, dtype: int64\n",
      "Predominantly, the great majority of these measurements are coming from the east bench of SLC (Cottonwood and Murray)\n"
     ]
    }
   ],
   "source": [
    "a_hex_df = UT_Zips_UCMR4_df[UT_Zips_UCMR4_df.loc[:,\"Contaminant\"] == 'alpha-hexachlorocyclohexane']\n",
    "a_hex_df_locs = a_hex_df.loc[:,'ZIPCODE'].value_counts()\n",
    "print(a_hex_df_locs.iloc[:5])\n",
    "print(\"Predominantly, the great majority of these measurements are coming from the east bench of SLC (Cottonwood and Murray)\")"
   ]
  },
  {
   "cell_type": "markdown",
   "metadata": {},
   "source": [
    "## Summary of Work: \n",
    "\n",
    "Herein, I perform an exploratory analysis on the carcinogenic water measurments from the Unregulated Contaminant Monitoring Rule. Every ~5 years, a list of chemicals, not approved under the SDWA act, are monitored in public water supplies for roughly two years. This list of chemicals changes per each UCMR cycle and thus measurments have short temporal resolution. \n",
    "\n",
    "<br>Only 5 known carcinogens showcase measurment: 1,3 butadiene, Strontium-90, Chromium (VI), alpha-hexachlorocyclohexane and O-toluidine. Each carcinogen contains ~700-800 measu"
   ]
  }
 ],
 "metadata": {
  "kernelspec": {
   "display_name": "Python 3",
   "language": "python",
   "name": "python3"
  },
  "language_info": {
   "codemirror_mode": {
    "name": "ipython",
    "version": 3
   },
   "file_extension": ".py",
   "mimetype": "text/x-python",
   "name": "python",
   "nbconvert_exporter": "python",
   "pygments_lexer": "ipython3",
   "version": "3.7.4"
  }
 },
 "nbformat": 4,
 "nbformat_minor": 2
}
